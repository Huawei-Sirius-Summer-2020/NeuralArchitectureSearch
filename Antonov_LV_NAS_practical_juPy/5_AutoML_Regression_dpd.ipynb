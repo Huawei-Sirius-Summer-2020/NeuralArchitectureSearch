{
  "nbformat": 4,
  "nbformat_minor": 0,
  "metadata": {
    "colab": {
      "name": "5_AutoML_Regression_dpd.ipynb",
      "provenance": [],
      "collapsed_sections": []
    },
    "kernelspec": {
      "name": "python3",
      "display_name": "Python 3"
    }
  },
  "cells": [
    {
      "cell_type": "markdown",
      "metadata": {
        "id": "gf6XnsrCVHdg",
        "colab_type": "text"
      },
      "source": [
        "<center>\n",
        "\n",
        "![huawei-logo](https://www-file.huawei.com/-/media/corporate/images/home/logo/huawei_logo.png)\n",
        "\n",
        "<p><b>Летняя школа. \"Современные методы теории информации, оптимизации и управления\".</p></b>\n",
        "Sirius-2020.\n",
        "<center> <b>Авторы материала: к.т.н. Антонов Лев, Власов Роман."
      ]
    },
    {
      "cell_type": "markdown",
      "metadata": {
        "id": "0BBonx9ZWJOL",
        "colab_type": "text"
      },
      "source": [
        "## Применение AutoKeras к задаче DPD"
      ]
    },
    {
      "cell_type": "code",
      "metadata": {
        "id": "ZIuyEuKGKoyK",
        "colab_type": "code",
        "colab": {}
      },
      "source": [
        "!pip install git+https://github.com/keras-team/keras-tuner.git@1.0.2rc1  &> /dev/null\n",
        "!pip install autokeras  &> /dev/null\n",
        "!git clone https://gitlab.com/spbroma/pyplot_lib.git  &> /dev/null"
      ],
      "execution_count": 1,
      "outputs": []
    },
    {
      "cell_type": "code",
      "metadata": {
        "id": "XFJPMFe5LLaV",
        "colab_type": "code",
        "colab": {}
      },
      "source": [
        "from sklearn.datasets import fetch_california_housing\n",
        "import numpy as np\n",
        "import pandas as pd\n",
        "import tensorflow as tf\n",
        "import autokeras as ak\n",
        "import matplotlib.pyplot as plt"
      ],
      "execution_count": 22,
      "outputs": []
    },
    {
      "cell_type": "code",
      "metadata": {
        "id": "OykLg6RvLLdC",
        "colab_type": "code",
        "colab": {
          "base_uri": "https://localhost:8080/",
          "height": 34
        },
        "outputId": "0f77315e-5c62-4a5f-c751-05a0a416b222"
      },
      "source": [
        "# Import signal from Google Drive\n",
        "\n",
        "#import scipy.io\n",
        "#import subprocess\n",
        "#import os\n",
        "\n",
        "#from google.colab import drive\n",
        "#drive.mount('/content/drive')\n",
        "# import signal\n",
        "#mat = scipy.io.loadmat('/content/drive/My Drive/Colab Notebooks/datasets/BlackBoxData_80.mat')"
      ],
      "execution_count": null,
      "outputs": [
        {
          "output_type": "stream",
          "text": [
            "Drive already mounted at /content/drive; to attempt to forcibly remount, call drive.mount(\"/content/drive\", force_remount=True).\n"
          ],
          "name": "stdout"
        }
      ]
    },
    {
      "cell_type": "code",
      "metadata": {
        "id": "IfULC26iLLf4",
        "colab_type": "code",
        "colab": {
          "base_uri": "https://localhost:8080/",
          "height": 357
        },
        "outputId": "5bd39e86-e67a-4836-dfc5-596255343766"
      },
      "source": [
        "# Import signal from github\n",
        "\n",
        "import scipy.io\n",
        "import subprocess\n",
        "import os\n",
        "# import signal\n",
        "#mat = scipy.io.loadmat('/content/drive/My Drive/Colab Notebooks/datasets/BlackBoxData_80.mat')\n",
        "\n",
        "# raw=true is important so you download the file rather than the webpage.\n",
        "!wget https://github.com/Huawei-Sirius-Summer-2020/BlackBoxData/blob/master/BlackBoxData_80.mat?raw=true\n",
        "# rename the file\n",
        "!mv BlackBoxData_80.mat\\?raw\\=true BlackBoxData_80.mat\n",
        "# update scipy\n",
        "#!pip install -U -q scipy\n",
        "# Load the data\n",
        "mat = scipy.io.loadmat('BlackBoxData_80.mat')"
      ],
      "execution_count": 19,
      "outputs": [
        {
          "output_type": "stream",
          "text": [
            "--2020-08-13 09:10:03--  https://github.com/Huawei-Sirius-Summer-2020/BlackBoxData/blob/master/BlackBoxData_80.mat?raw=true\n",
            "Resolving github.com (github.com)... 140.82.118.3\n",
            "Connecting to github.com (github.com)|140.82.118.3|:443... connected.\n",
            "HTTP request sent, awaiting response... 302 Found\n",
            "Location: https://github.com/Huawei-Sirius-Summer-2020/BlackBoxData/raw/master/BlackBoxData_80.mat [following]\n",
            "--2020-08-13 09:10:03--  https://github.com/Huawei-Sirius-Summer-2020/BlackBoxData/raw/master/BlackBoxData_80.mat\n",
            "Reusing existing connection to github.com:443.\n",
            "HTTP request sent, awaiting response... 302 Found\n",
            "Location: https://raw.githubusercontent.com/Huawei-Sirius-Summer-2020/BlackBoxData/master/BlackBoxData_80.mat [following]\n",
            "--2020-08-13 09:10:03--  https://raw.githubusercontent.com/Huawei-Sirius-Summer-2020/BlackBoxData/master/BlackBoxData_80.mat\n",
            "Resolving raw.githubusercontent.com (raw.githubusercontent.com)... 151.101.0.133, 151.101.64.133, 151.101.128.133, ...\n",
            "Connecting to raw.githubusercontent.com (raw.githubusercontent.com)|151.101.0.133|:443... connected.\n",
            "HTTP request sent, awaiting response... 200 OK\n",
            "Length: 3378846 (3.2M) [application/octet-stream]\n",
            "Saving to: ‘BlackBoxData_80.mat?raw=true’\n",
            "\n",
            "BlackBoxData_80.mat 100%[===================>]   3.22M  --.-KB/s    in 0.1s    \n",
            "\n",
            "2020-08-13 09:10:04 (30.2 MB/s) - ‘BlackBoxData_80.mat?raw=true’ saved [3378846/3378846]\n",
            "\n"
          ],
          "name": "stdout"
        }
      ]
    },
    {
      "cell_type": "markdown",
      "metadata": {
        "id": "oEnrvRaZdEIk",
        "colab_type": "text"
      },
      "source": [
        "Первое представление наших данных, которые мы попробуем - это простое разбиение сигнала (вектора комплексных чисел) на реальную и мнимую части.\n",
        "\n",
        "[![5-1-data-format.png](https://i.postimg.cc/yNqsKJg5/5-1-data-format.png)](https://postimg.cc/DSctdwcd)"
      ]
    },
    {
      "cell_type": "code",
      "metadata": {
        "id": "v9xv_fybLLjV",
        "colab_type": "code",
        "colab": {
          "base_uri": "https://localhost:8080/",
          "height": 34
        },
        "outputId": "664b6ff6-751f-4600-9d4e-3efda6796a4f"
      },
      "source": [
        "x = (mat['x'] * (2 ** -15)).reshape(-1, 1)\n",
        "y = (mat['y'] * (2 ** -15)).reshape(-1, 1)\n",
        "\n",
        "X = np.concatenate((np.real(x), np.imag(x)), axis=1)\n",
        "Y = np.concatenate((np.real(y), np.imag(y)), axis=1)\n",
        "\n",
        "s = int(X.shape[0] * 0.9)\n",
        "#x_train = pd.DataFrame(X[:s]); x_val = pd.DataFrame(X[s:])\n",
        "#y_train = pd.DataFrame(Y[:s]); y_val = pd.DataFrame(Y[s:])\n",
        "\n",
        "x_train = X[:s]; x_val = X[s:]\n",
        "y_train = Y[:s]; y_val = Y[s:]\n",
        "\n",
        "x_train.shape, y_train.shape, x_val.shape, y_val.shape"
      ],
      "execution_count": 23,
      "outputs": [
        {
          "output_type": "execute_result",
          "data": {
            "text/plain": [
              "((89856, 2), (89856, 2), (9984, 2), (9984, 2))"
            ]
          },
          "metadata": {
            "tags": []
          },
          "execution_count": 23
        }
      ]
    },
    {
      "cell_type": "markdown",
      "metadata": {
        "id": "6xwlYy6yfs5R",
        "colab_type": "text"
      },
      "source": [
        "Теперь паре чисел входного сигнала соответствует пара чисел выходного."
      ]
    },
    {
      "cell_type": "code",
      "metadata": {
        "id": "2P7ahl4XYERj",
        "colab_type": "code",
        "colab": {
          "base_uri": "https://localhost:8080/",
          "height": 119
        },
        "outputId": "784628d7-a6e3-4946-c1b0-ee1fae44ce77"
      },
      "source": [
        "print(\"{} {:>25}\".format('X', 'Y'))\n",
        "for i in np.arange(5):\n",
        "  print(x_train[i], x_train[i])"
      ],
      "execution_count": null,
      "outputs": [
        {
          "output_type": "stream",
          "text": [
            "X                         Y\n",
            "[ 0.00238037 -0.01348877] [ 0.00238037 -0.01348877]\n",
            "[-0.00765991 -0.01791382] [-0.00765991 -0.01791382]\n",
            "[-0.01525879 -0.01779175] [-0.01525879 -0.01779175]\n",
            "[-0.01824951 -0.01293945] [-0.01824951 -0.01293945]\n",
            "[-0.01608276 -0.00430298] [-0.01608276 -0.00430298]\n"
          ],
          "name": "stdout"
        }
      ]
    },
    {
      "cell_type": "markdown",
      "metadata": {
        "id": "U1JDDAFhggLP",
        "colab_type": "text"
      },
      "source": [
        "#### Эксперимент №1\n",
        "Передадим эту выборку (предварительно разделенную на train и validation) в блок **StructuredDataRegressor** установим **max_trials=1**, **epochs=10** и зафиксируем seed, чтобы просто прикинуть работает ли данный подход."
      ]
    },
    {
      "cell_type": "code",
      "metadata": {
        "id": "oTF7KpClLLle",
        "colab_type": "code",
        "colab": {
          "base_uri": "https://localhost:8080/",
          "height": 459
        },
        "outputId": "bc2f8208-089f-4347-ad68-01f6b591f3d9"
      },
      "source": [
        "OUTPUT_PATH = '5_AutoML_Regression_pdp'\n",
        "\n",
        "# Initialize the structured data regressor.\n",
        "reg = ak.StructuredDataRegressor(\n",
        "    overwrite=True,\n",
        "    max_trials=1,\n",
        "    directory  = OUTPUT_PATH,\n",
        "    seed = 123) \n",
        "\n",
        "reg.fit(x_train,\n",
        "        y_train,\n",
        "        # Use your own validation set.\n",
        "        validation_data=(x_val, y_val),\n",
        "        epochs=10)"
      ],
      "execution_count": null,
      "outputs": [
        {
          "output_type": "stream",
          "text": [
            "Trial 1 Complete [00h 00m 37s]\n",
            "val_loss: 0.0001472731091780588\n",
            "\n",
            "Best val_loss So Far: 0.0001472731091780588\n",
            "Total elapsed time: 00h 00m 37s\n",
            "INFO:tensorflow:Oracle triggered exit\n",
            "Epoch 1/10\n",
            "2808/2808 [==============================] - 4s 1ms/step - loss: 1.7868e-04 - mean_squared_error: 1.7868e-04 - val_loss: 1.7325e-04 - val_mean_squared_error: 1.7325e-04\n",
            "Epoch 2/10\n",
            "2808/2808 [==============================] - 4s 1ms/step - loss: 1.5580e-04 - mean_squared_error: 1.5580e-04 - val_loss: 1.6263e-04 - val_mean_squared_error: 1.6263e-04\n",
            "Epoch 3/10\n",
            "2808/2808 [==============================] - 4s 1ms/step - loss: 1.5313e-04 - mean_squared_error: 1.5313e-04 - val_loss: 1.5705e-04 - val_mean_squared_error: 1.5705e-04\n",
            "Epoch 4/10\n",
            "2808/2808 [==============================] - 4s 1ms/step - loss: 1.5128e-04 - mean_squared_error: 1.5128e-04 - val_loss: 1.5423e-04 - val_mean_squared_error: 1.5423e-04\n",
            "Epoch 5/10\n",
            "2808/2808 [==============================] - 4s 1ms/step - loss: 1.5010e-04 - mean_squared_error: 1.5010e-04 - val_loss: 1.5194e-04 - val_mean_squared_error: 1.5194e-04\n",
            "Epoch 6/10\n",
            "2808/2808 [==============================] - 4s 1ms/step - loss: 1.4923e-04 - mean_squared_error: 1.4923e-04 - val_loss: 1.5055e-04 - val_mean_squared_error: 1.5055e-04\n",
            "Epoch 7/10\n",
            "2808/2808 [==============================] - 4s 1ms/step - loss: 1.4837e-04 - mean_squared_error: 1.4837e-04 - val_loss: 1.4905e-04 - val_mean_squared_error: 1.4905e-04\n",
            "Epoch 8/10\n",
            "2808/2808 [==============================] - 4s 1ms/step - loss: 1.4779e-04 - mean_squared_error: 1.4779e-04 - val_loss: 1.4869e-04 - val_mean_squared_error: 1.4869e-04\n",
            "Epoch 9/10\n",
            "2808/2808 [==============================] - 4s 1ms/step - loss: 1.4732e-04 - mean_squared_error: 1.4732e-04 - val_loss: 1.4768e-04 - val_mean_squared_error: 1.4768e-04\n",
            "Epoch 10/10\n",
            "2808/2808 [==============================] - 4s 1ms/step - loss: 1.4677e-04 - mean_squared_error: 1.4677e-04 - val_loss: 1.4734e-04 - val_mean_squared_error: 1.4734e-04\n"
          ],
          "name": "stdout"
        }
      ]
    },
    {
      "cell_type": "code",
      "metadata": {
        "id": "9avuHrVSLLoB",
        "colab_type": "code",
        "colab": {
          "base_uri": "https://localhost:8080/",
          "height": 323
        },
        "outputId": "c319171d-e546-4fdc-cf0c-6d0135d671b5"
      },
      "source": [
        "model = reg.export_model()\n",
        "model.summary()"
      ],
      "execution_count": null,
      "outputs": [
        {
          "output_type": "stream",
          "text": [
            "Model: \"functional_1\"\n",
            "_________________________________________________________________\n",
            "Layer (type)                 Output Shape              Param #   \n",
            "=================================================================\n",
            "input_1 (InputLayer)         [(None, 2)]               0         \n",
            "_________________________________________________________________\n",
            "multi_category_encoding (Mul (None, 2)                 0         \n",
            "_________________________________________________________________\n",
            "dense (Dense)                (None, 256)               768       \n",
            "_________________________________________________________________\n",
            "re_lu (ReLU)                 (None, 256)               0         \n",
            "_________________________________________________________________\n",
            "regression_head_1 (Dense)    (None, 2)                 514       \n",
            "=================================================================\n",
            "Total params: 1,282\n",
            "Trainable params: 1,282\n",
            "Non-trainable params: 0\n",
            "_________________________________________________________________\n"
          ],
          "name": "stdout"
        }
      ]
    },
    {
      "cell_type": "markdown",
      "metadata": {
        "id": "jNIqRGNykt2l",
        "colab_type": "text"
      },
      "source": [
        "Предсказываем значение ***y*** на валидации, превращаем реальное представление данных в комплексное и считаем **nmse** в децибелах."
      ]
    },
    {
      "cell_type": "code",
      "metadata": {
        "id": "oz-VHy0yRO1-",
        "colab_type": "code",
        "colab": {}
      },
      "source": [
        "y_ = reg.predict(x_val)"
      ],
      "execution_count": null,
      "outputs": []
    },
    {
      "cell_type": "code",
      "metadata": {
        "id": "zLTm-m43LLr4",
        "colab_type": "code",
        "colab": {}
      },
      "source": [
        "y_pred_cmpx = np.vectorize(complex)(y_[:,0]   , y_[:,1])\n",
        "y_val_cmpx  = np.vectorize(complex)(y_val[:,0], y_val[:,1])\n",
        "x_val_cmpx  = np.vectorize(complex)(x_val[:,0], x_val[:,1])"
      ],
      "execution_count": null,
      "outputs": []
    },
    {
      "cell_type": "code",
      "metadata": {
        "id": "oHLhqdORLLvy",
        "colab_type": "code",
        "colab": {
          "base_uri": "https://localhost:8080/",
          "height": 34
        },
        "outputId": "d534e18b-b654-4a81-af6f-63037ca82f43"
      },
      "source": [
        "ex = x_val_cmpx * np.conj(x_val_cmpx)\n",
        "ee = (y_val_cmpx - y_pred_cmpx) * np.conj(y_val_cmpx - y_pred_cmpx)\n",
        "nmse = 10 * np.log10(np.mean(ee) / np.mean(ex))\n",
        "nmse"
      ],
      "execution_count": null,
      "outputs": [
        {
          "output_type": "execute_result",
          "data": {
            "text/plain": [
              "(-23.440443412471318+0j)"
            ]
          },
          "metadata": {
            "tags": []
          },
          "execution_count": 12
        }
      ]
    },
    {
      "cell_type": "code",
      "metadata": {
        "id": "GTlJE5RILLzv",
        "colab_type": "code",
        "colab": {
          "base_uri": "https://localhost:8080/",
          "height": 455
        },
        "outputId": "94514573-e98e-4320-8bec-10f502745d07"
      },
      "source": [
        "plt.plot(y_val_cmpx * np.conj(y_val_cmpx))\n",
        "plt.plot(ee)"
      ],
      "execution_count": null,
      "outputs": [
        {
          "output_type": "stream",
          "text": [
            "/usr/local/lib/python3.6/dist-packages/numpy/core/_asarray.py:85: ComplexWarning: Casting complex values to real discards the imaginary part\n",
            "  return array(a, dtype, copy=False, order=order)\n",
            "/usr/local/lib/python3.6/dist-packages/numpy/core/_asarray.py:85: ComplexWarning: Casting complex values to real discards the imaginary part\n",
            "  return array(a, dtype, copy=False, order=order)\n"
          ],
          "name": "stderr"
        },
        {
          "output_type": "execute_result",
          "data": {
            "text/plain": [
              "[<matplotlib.lines.Line2D at 0x7fe8e65a1518>]"
            ]
          },
          "metadata": {
            "tags": []
          },
          "execution_count": 13
        },
        {
          "output_type": "stream",
          "text": [
            "WARNING:tensorflow:Unresolved object in checkpoint: (root).optimizer.iter\n",
            "WARNING:tensorflow:Unresolved object in checkpoint: (root).optimizer.beta_1\n",
            "WARNING:tensorflow:Unresolved object in checkpoint: (root).optimizer.beta_2\n",
            "WARNING:tensorflow:Unresolved object in checkpoint: (root).optimizer.decay\n",
            "WARNING:tensorflow:Unresolved object in checkpoint: (root).optimizer.learning_rate\n",
            "WARNING:tensorflow:A checkpoint was restored (e.g. tf.train.Checkpoint.restore or tf.keras.Model.load_weights) but not all checkpointed values were used. See above for specific issues. Use expect_partial() on the load status object, e.g. tf.train.Checkpoint.restore(...).expect_partial(), to silence these warnings, or use assert_consumed() to make the check explicit. See https://www.tensorflow.org/guide/checkpoint#loading_mechanics for details.\n"
          ],
          "name": "stdout"
        },
        {
          "output_type": "display_data",
          "data": {
            "image/png": "[encoded data removed]",
            "text/plain": [
              "<Figure size 432x288 with 1 Axes>"
            ]
          },
          "metadata": {
            "tags": [],
            "needs_background": "light"
          }
        }
      ]
    },
    {
      "cell_type": "code",
      "metadata": {
        "id": "jahmpjtATAfh",
        "colab_type": "code",
        "colab": {
          "base_uri": "https://localhost:8080/",
          "height": 277
        },
        "outputId": "f308ac4e-61c8-40c7-8f62-ab4f60747c82"
      },
      "source": [
        "from pyplot_lib.plot_lib import plot_psd\n",
        "plot_psd([x_val_cmpx, y_val_cmpx, y_val_cmpx - y_pred_cmpx])\n",
        "# df = pd.DataFrame({'x': x_val_cmpx, 'd': y_val_cmpx, 'error': ee})\n",
        "# write_data_to_csv(df, 'input_data_train')"
      ],
      "execution_count": null,
      "outputs": [
        {
          "output_type": "display_data",
          "data": {
            "image/png": "[encoded data removed]",
            "text/plain": [
              "<Figure size 432x288 with 1 Axes>"
            ]
          },
          "metadata": {
            "tags": [],
            "needs_background": "light"
          }
        }
      ]
    },
    {
      "cell_type": "markdown",
      "metadata": {
        "id": "CzftNsjSNlEP",
        "colab_type": "text"
      },
      "source": [
        "#### Эксперимент №2\n",
        "Первая симуляция дала некоторый положительный результат (пускай и очень слабый). Поэтому, попробуем увелиличь время симулции и количество исследуемых моделей и посмотрим, как изменится результат.\n",
        "**max_trials=5, epochs=30**"
      ]
    },
    {
      "cell_type": "code",
      "metadata": {
        "id": "QMtxuFDSNnLg",
        "colab_type": "code",
        "colab": {}
      },
      "source": [
        "OUTPUT_PATH = '5_AutoML_Regression_pdp_5'\n",
        "\n",
        "# Initialize the structured data regressor.\n",
        "reg_5 = ak.StructuredDataRegressor(\n",
        "    overwrite = True,\n",
        "    max_trials = 5,\n",
        "    directory  = OUTPUT_PATH,\n",
        "    seed = 123) # It tries 10 different models."
      ],
      "execution_count": null,
      "outputs": []
    },
    {
      "cell_type": "code",
      "metadata": {
        "id": "CvD5obAlNhIL",
        "colab_type": "code",
        "colab": {
          "base_uri": "https://localhost:8080/",
          "height": 1000
        },
        "outputId": "f85f288c-2582-4e9e-8a7a-14a74656e82f"
      },
      "source": [
        "reg_5.fit(x_train,\n",
        "        y_train,\n",
        "        # Use your own validation set.\n",
        "        validation_data=(x_val, y_val),\n",
        "        epochs=30)"
      ],
      "execution_count": null,
      "outputs": [
        {
          "output_type": "stream",
          "text": [
            "Trial 5 Complete [00h 01m 15s]\n",
            "val_loss: 0.00019289979536551982\n",
            "\n",
            "Best val_loss So Far: 0.00014382896188180894\n",
            "Total elapsed time: 00h 07m 37s\n",
            "INFO:tensorflow:Oracle triggered exit\n",
            "Epoch 1/30\n",
            "2808/2808 [==============================] - 4s 1ms/step - loss: 1.7813e-04 - mean_squared_error: 1.7813e-04 - val_loss: 1.7056e-04 - val_mean_squared_error: 1.7056e-04\n",
            "Epoch 2/30\n",
            "2808/2808 [==============================] - 4s 1ms/step - loss: 1.5618e-04 - mean_squared_error: 1.5618e-04 - val_loss: 1.6194e-04 - val_mean_squared_error: 1.6194e-04\n",
            "Epoch 3/30\n",
            "2808/2808 [==============================] - 4s 1ms/step - loss: 1.5337e-04 - mean_squared_error: 1.5337e-04 - val_loss: 1.5804e-04 - val_mean_squared_error: 1.5804e-04\n",
            "Epoch 4/30\n",
            "2808/2808 [==============================] - 4s 1ms/step - loss: 1.5174e-04 - mean_squared_error: 1.5174e-04 - val_loss: 1.5392e-04 - val_mean_squared_error: 1.5392e-04\n",
            "Epoch 5/30\n",
            "2808/2808 [==============================] - 4s 1ms/step - loss: 1.5051e-04 - mean_squared_error: 1.5051e-04 - val_loss: 1.5357e-04 - val_mean_squared_error: 1.5357e-04\n",
            "Epoch 6/30\n",
            "2808/2808 [==============================] - 4s 1ms/step - loss: 1.4940e-04 - mean_squared_error: 1.4940e-04 - val_loss: 1.5154e-04 - val_mean_squared_error: 1.5154e-04\n",
            "Epoch 7/30\n",
            "2808/2808 [==============================] - 4s 1ms/step - loss: 1.4863e-04 - mean_squared_error: 1.4863e-04 - val_loss: 1.5060e-04 - val_mean_squared_error: 1.5060e-04\n",
            "Epoch 8/30\n",
            "2808/2808 [==============================] - 4s 1ms/step - loss: 1.4812e-04 - mean_squared_error: 1.4812e-04 - val_loss: 1.4975e-04 - val_mean_squared_error: 1.4975e-04\n",
            "Epoch 9/30\n",
            "2808/2808 [==============================] - 4s 1ms/step - loss: 1.4769e-04 - mean_squared_error: 1.4769e-04 - val_loss: 1.4947e-04 - val_mean_squared_error: 1.4947e-04\n",
            "Epoch 10/30\n",
            "2808/2808 [==============================] - 4s 1ms/step - loss: 1.4723e-04 - mean_squared_error: 1.4723e-04 - val_loss: 1.4882e-04 - val_mean_squared_error: 1.4882e-04\n",
            "Epoch 11/30\n",
            "2808/2808 [==============================] - 3s 1ms/step - loss: 1.4675e-04 - mean_squared_error: 1.4675e-04 - val_loss: 1.4885e-04 - val_mean_squared_error: 1.4885e-04\n",
            "Epoch 12/30\n",
            "2808/2808 [==============================] - 3s 1ms/step - loss: 1.4640e-04 - mean_squared_error: 1.4640e-04 - val_loss: 1.4802e-04 - val_mean_squared_error: 1.4802e-04\n",
            "Epoch 13/30\n",
            "2808/2808 [==============================] - 4s 1ms/step - loss: 1.4607e-04 - mean_squared_error: 1.4607e-04 - val_loss: 1.4805e-04 - val_mean_squared_error: 1.4805e-04\n",
            "Epoch 14/30\n",
            "2808/2808 [==============================] - 3s 1ms/step - loss: 1.4577e-04 - mean_squared_error: 1.4577e-04 - val_loss: 1.4755e-04 - val_mean_squared_error: 1.4755e-04\n",
            "Epoch 15/30\n",
            "2808/2808 [==============================] - 3s 1ms/step - loss: 1.4542e-04 - mean_squared_error: 1.4542e-04 - val_loss: 1.4814e-04 - val_mean_squared_error: 1.4814e-04\n",
            "Epoch 16/30\n",
            "2808/2808 [==============================] - 3s 1ms/step - loss: 1.4513e-04 - mean_squared_error: 1.4513e-04 - val_loss: 1.4830e-04 - val_mean_squared_error: 1.4830e-04\n",
            "Epoch 17/30\n",
            "2808/2808 [==============================] - 3s 1ms/step - loss: 1.4498e-04 - mean_squared_error: 1.4498e-04 - val_loss: 1.4752e-04 - val_mean_squared_error: 1.4752e-04\n",
            "Epoch 18/30\n",
            "2808/2808 [==============================] - 4s 1ms/step - loss: 1.4474e-04 - mean_squared_error: 1.4474e-04 - val_loss: 1.4709e-04 - val_mean_squared_error: 1.4709e-04\n",
            "Epoch 19/30\n",
            "2808/2808 [==============================] - 4s 1ms/step - loss: 1.4461e-04 - mean_squared_error: 1.4461e-04 - val_loss: 1.4722e-04 - val_mean_squared_error: 1.4722e-04\n",
            "Epoch 20/30\n",
            "2808/2808 [==============================] - 4s 1ms/step - loss: 1.4449e-04 - mean_squared_error: 1.4449e-04 - val_loss: 1.4673e-04 - val_mean_squared_error: 1.4673e-04\n",
            "Epoch 21/30\n",
            "2808/2808 [==============================] - 4s 1ms/step - loss: 1.4434e-04 - mean_squared_error: 1.4434e-04 - val_loss: 1.4666e-04 - val_mean_squared_error: 1.4666e-04\n",
            "Epoch 22/30\n",
            "2808/2808 [==============================] - 4s 1ms/step - loss: 1.4423e-04 - mean_squared_error: 1.4423e-04 - val_loss: 1.4637e-04 - val_mean_squared_error: 1.4637e-04\n",
            "Epoch 23/30\n",
            "2808/2808 [==============================] - 4s 1ms/step - loss: 1.4410e-04 - mean_squared_error: 1.4410e-04 - val_loss: 1.4622e-04 - val_mean_squared_error: 1.4622e-04\n",
            "Epoch 24/30\n",
            "2808/2808 [==============================] - 4s 1ms/step - loss: 1.4401e-04 - mean_squared_error: 1.4401e-04 - val_loss: 1.4610e-04 - val_mean_squared_error: 1.4610e-04\n",
            "Epoch 25/30\n",
            "2808/2808 [==============================] - 3s 1ms/step - loss: 1.4390e-04 - mean_squared_error: 1.4390e-04 - val_loss: 1.4556e-04 - val_mean_squared_error: 1.4556e-04\n",
            "Epoch 26/30\n",
            "2808/2808 [==============================] - 3s 1ms/step - loss: 1.4381e-04 - mean_squared_error: 1.4381e-04 - val_loss: 1.4486e-04 - val_mean_squared_error: 1.4486e-04\n",
            "Epoch 27/30\n",
            "2808/2808 [==============================] - 4s 1ms/step - loss: 1.4364e-04 - mean_squared_error: 1.4364e-04 - val_loss: 1.4536e-04 - val_mean_squared_error: 1.4536e-04\n",
            "Epoch 28/30\n",
            "2808/2808 [==============================] - 3s 1ms/step - loss: 1.4355e-04 - mean_squared_error: 1.4355e-04 - val_loss: 1.4499e-04 - val_mean_squared_error: 1.4499e-04\n",
            "Epoch 29/30\n",
            "2808/2808 [==============================] - 3s 1ms/step - loss: 1.4349e-04 - mean_squared_error: 1.4349e-04 - val_loss: 1.4480e-04 - val_mean_squared_error: 1.4480e-04\n",
            "Epoch 30/30\n",
            "2808/2808 [==============================] - 4s 1ms/step - loss: 1.4337e-04 - mean_squared_error: 1.4337e-04 - val_loss: 1.4468e-04 - val_mean_squared_error: 1.4468e-04\n"
          ],
          "name": "stdout"
        }
      ]
    },
    {
      "cell_type": "code",
      "metadata": {
        "id": "EeeJLpMhNhMl",
        "colab_type": "code",
        "colab": {
          "base_uri": "https://localhost:8080/",
          "height": 445
        },
        "outputId": "d6fb03a5-2dba-4e06-87fa-5da9aebaf4ea"
      },
      "source": [
        "model_5 = reg_5.export_model()\n",
        "model_5.summary()"
      ],
      "execution_count": null,
      "outputs": [
        {
          "output_type": "stream",
          "text": [
            "WARNING:tensorflow:Unresolved object in checkpoint: (root).optimizer.iter\n",
            "WARNING:tensorflow:Unresolved object in checkpoint: (root).optimizer.beta_1\n",
            "WARNING:tensorflow:Unresolved object in checkpoint: (root).optimizer.beta_2\n",
            "WARNING:tensorflow:Unresolved object in checkpoint: (root).optimizer.decay\n",
            "WARNING:tensorflow:Unresolved object in checkpoint: (root).optimizer.learning_rate\n",
            "WARNING:tensorflow:A checkpoint was restored (e.g. tf.train.Checkpoint.restore or tf.keras.Model.load_weights) but not all checkpointed values were used. See above for specific issues. Use expect_partial() on the load status object, e.g. tf.train.Checkpoint.restore(...).expect_partial(), to silence these warnings, or use assert_consumed() to make the check explicit. See https://www.tensorflow.org/guide/checkpoint#loading_mechanics for details.\n",
            "Model: \"functional_1\"\n",
            "_________________________________________________________________\n",
            "Layer (type)                 Output Shape              Param #   \n",
            "=================================================================\n",
            "input_1 (InputLayer)         [(None, 2)]               0         \n",
            "_________________________________________________________________\n",
            "multi_category_encoding (Mul (None, 2)                 0         \n",
            "_________________________________________________________________\n",
            "dense (Dense)                (None, 256)               768       \n",
            "_________________________________________________________________\n",
            "re_lu (ReLU)                 (None, 256)               0         \n",
            "_________________________________________________________________\n",
            "regression_head_1 (Dense)    (None, 2)                 514       \n",
            "=================================================================\n",
            "Total params: 1,282\n",
            "Trainable params: 1,282\n",
            "Non-trainable params: 0\n",
            "_________________________________________________________________\n"
          ],
          "name": "stdout"
        }
      ]
    },
    {
      "cell_type": "code",
      "metadata": {
        "id": "iOZ2bMKDRyhH",
        "colab_type": "code",
        "colab": {}
      },
      "source": [
        "y_ = reg_5.predict(x_val)"
      ],
      "execution_count": null,
      "outputs": []
    },
    {
      "cell_type": "code",
      "metadata": {
        "id": "Owfo44oONhXo",
        "colab_type": "code",
        "colab": {}
      },
      "source": [
        "y_pred_cmpx = np.vectorize(complex)(y_[:,0]   , y_[:,1])\n",
        "y_val_cmpx  = np.vectorize(complex)(y_val[:,0], y_val[:,1])\n",
        "x_val_cmpx  = np.vectorize(complex)(x_val[:,0], x_val[:,1])"
      ],
      "execution_count": null,
      "outputs": []
    },
    {
      "cell_type": "code",
      "metadata": {
        "id": "PsjSwNCNNhb4",
        "colab_type": "code",
        "colab": {
          "base_uri": "https://localhost:8080/",
          "height": 34
        },
        "outputId": "4ed1f035-74ca-4095-c48c-209250019147"
      },
      "source": [
        "ex = x_val_cmpx * np.conj(x_val_cmpx)\n",
        "ee = (y_val_cmpx - y_pred_cmpx) * np.conj(y_val_cmpx - y_pred_cmpx)\n",
        "nmse = 10 * np.log10(np.mean(ee) / np.mean(ex))\n",
        "nmse"
      ],
      "execution_count": null,
      "outputs": [
        {
          "output_type": "execute_result",
          "data": {
            "text/plain": [
              "(-23.51947283819402+0j)"
            ]
          },
          "metadata": {
            "tags": []
          },
          "execution_count": 22
        }
      ]
    },
    {
      "cell_type": "code",
      "metadata": {
        "id": "yKGFS8FrNhf-",
        "colab_type": "code",
        "colab": {
          "base_uri": "https://localhost:8080/",
          "height": 471
        },
        "outputId": "b8ed7865-09a0-483e-babd-07864f68cdbb"
      },
      "source": [
        "plt.plot(y_val_cmpx * np.conj(y_val_cmpx))\n",
        "plt.plot(ee)"
      ],
      "execution_count": null,
      "outputs": [
        {
          "output_type": "stream",
          "text": [
            "/usr/local/lib/python3.6/dist-packages/numpy/core/_asarray.py:85: ComplexWarning: Casting complex values to real discards the imaginary part\n",
            "  return array(a, dtype, copy=False, order=order)\n",
            "/usr/local/lib/python3.6/dist-packages/numpy/core/_asarray.py:85: ComplexWarning: Casting complex values to real discards the imaginary part\n",
            "  return array(a, dtype, copy=False, order=order)\n"
          ],
          "name": "stderr"
        },
        {
          "output_type": "execute_result",
          "data": {
            "text/plain": [
              "[<matplotlib.lines.Line2D at 0x7fe8e5626198>]"
            ]
          },
          "metadata": {
            "tags": []
          },
          "execution_count": 23
        },
        {
          "output_type": "display_data",
          "data": {
            "image/png": "[encoded data removed]",
            "text/plain": [
              "<Figure size 432x288 with 1 Axes>"
            ]
          },
          "metadata": {
            "tags": [],
            "needs_background": "light"
          }
        },
        {
          "output_type": "stream",
          "text": [
            "WARNING:tensorflow:Unresolved object in checkpoint: (root).optimizer.iter\n",
            "WARNING:tensorflow:Unresolved object in checkpoint: (root).optimizer.beta_1\n",
            "WARNING:tensorflow:Unresolved object in checkpoint: (root).optimizer.beta_2\n",
            "WARNING:tensorflow:Unresolved object in checkpoint: (root).optimizer.decay\n",
            "WARNING:tensorflow:Unresolved object in checkpoint: (root).optimizer.learning_rate\n",
            "WARNING:tensorflow:A checkpoint was restored (e.g. tf.train.Checkpoint.restore or tf.keras.Model.load_weights) but not all checkpointed values were used. See above for specific issues. Use expect_partial() on the load status object, e.g. tf.train.Checkpoint.restore(...).expect_partial(), to silence these warnings, or use assert_consumed() to make the check explicit. See https://www.tensorflow.org/guide/checkpoint#loading_mechanics for details.\n"
          ],
          "name": "stdout"
        }
      ]
    },
    {
      "cell_type": "code",
      "metadata": {
        "id": "pvkcvS4mNhku",
        "colab_type": "code",
        "colab": {
          "base_uri": "https://localhost:8080/",
          "height": 277
        },
        "outputId": "ff87623e-8a99-42f0-9a7a-76a04ef0bdd3"
      },
      "source": [
        "plot_psd([x_val_cmpx, y_val_cmpx, y_val_cmpx - y_pred_cmpx])"
      ],
      "execution_count": null,
      "outputs": [
        {
          "output_type": "display_data",
          "data": {
            "image/png": "[encoded data removed]",
            "text/plain": [
              "<Figure size 432x288 with 1 Axes>"
            ]
          },
          "metadata": {
            "tags": [],
            "needs_background": "light"
          }
        }
      ]
    },
    {
      "cell_type": "code",
      "metadata": {
        "id": "raryOhG8Nhp3",
        "colab_type": "code",
        "colab": {}
      },
      "source": [
        "# результаты на трейне\n",
        "y_full = reg_5.predict(x_train)"
      ],
      "execution_count": null,
      "outputs": []
    },
    {
      "cell_type": "code",
      "metadata": {
        "id": "xT34ri83NhvE",
        "colab_type": "code",
        "colab": {}
      },
      "source": [
        "y_pred__train_cmpx = np.vectorize(complex)(y_full[:,0]   , y_full[:,1])\n",
        "y_train_cmpx  = np.vectorize(complex)(y_train[:,0], y_train[:,1])\n",
        "x_train_cmpx  = np.vectorize(complex)(x_train[:,0], x_train[:,1])"
      ],
      "execution_count": null,
      "outputs": []
    },
    {
      "cell_type": "code",
      "metadata": {
        "id": "SMyLOjSQLL5W",
        "colab_type": "code",
        "colab": {
          "base_uri": "https://localhost:8080/",
          "height": 34
        },
        "outputId": "8adcb649-a879-4fb3-ba86-d75a8ea10fdb"
      },
      "source": [
        "ex = x_train_cmpx * np.conj(x_train_cmpx)\n",
        "ee = (y_train_cmpx - y_pred__train_cmpx) * np.conj(y_train_cmpx - y_pred__train_cmpx)\n",
        "nmse = 10 * np.log10(np.mean(ee) / np.mean(ex))\n",
        "nmse"
      ],
      "execution_count": null,
      "outputs": [
        {
          "output_type": "execute_result",
          "data": {
            "text/plain": [
              "(-23.54646020871143+0j)"
            ]
          },
          "metadata": {
            "tags": []
          },
          "execution_count": 28
        }
      ]
    },
    {
      "cell_type": "code",
      "metadata": {
        "id": "G2NsNHt3Wf8o",
        "colab_type": "code",
        "colab": {
          "base_uri": "https://localhost:8080/",
          "height": 34
        },
        "outputId": "c0aa9a7b-ca92-4e3f-b404-b21c7fd14995"
      },
      "source": [
        "ex = x_val_cmpx * np.conj(x_val_cmpx)\n",
        "ee = (y_val_cmpx - y_pred_cmpx) * np.conj(y_val_cmpx - y_pred_cmpx)\n",
        "nmse = 10 * np.log10(np.mean(ee) / np.mean(ex))\n",
        "nmse"
      ],
      "execution_count": null,
      "outputs": [
        {
          "output_type": "execute_result",
          "data": {
            "text/plain": [
              "(-23.51947283819402+0j)"
            ]
          },
          "metadata": {
            "tags": []
          },
          "execution_count": 29
        }
      ]
    },
    {
      "cell_type": "markdown",
      "metadata": {
        "id": "pR-rBRSulIDo",
        "colab_type": "text"
      },
      "source": [
        "Результат получился практически такой же, как и после единичного прогона\n",
        "\n",
        "#### Симуляция 3\n",
        "Что бы убедиться в факте того, что увеличение времени ожидания не приносит существенного улучшения перформанса, увеличим еще больше параметры **max_trials и epochs**.\n"
      ]
    },
    {
      "cell_type": "code",
      "metadata": {
        "id": "fvZoPxaelHiK",
        "colab_type": "code",
        "colab": {}
      },
      "source": [
        "OUTPUT_PATH = '5_AutoML_Regression_pdp_30'\n",
        "\n",
        "# Initialize the structured data regressor.\n",
        "reg_5 = ak.StructuredDataRegressor(\n",
        "    overwrite = True,\n",
        "    max_trials = 50,\n",
        "    directory  = OUTPUT_PATH,\n",
        "    seed = 123) # It tries 10 different models."
      ],
      "execution_count": null,
      "outputs": []
    },
    {
      "cell_type": "code",
      "metadata": {
        "id": "sAdPlMvDlHgc",
        "colab_type": "code",
        "colab": {
          "base_uri": "https://localhost:8080/",
          "height": 1000
        },
        "outputId": "9c5dd89e-a754-46b3-ce3d-e2f99cfb29c2"
      },
      "source": [
        "reg_5.fit(x_train,\n",
        "        y_train,\n",
        "        # Use your own validation set.\n",
        "        validation_data=(x_val, y_val),\n",
        "        epochs=30)"
      ],
      "execution_count": null,
      "outputs": [
        {
          "output_type": "stream",
          "text": [
            "Trial 50 Complete [00h 14m 32s]\n",
            "val_loss: 0.00038449387648142874\n",
            "\n",
            "Best val_loss So Far: 0.00013813484110869467\n",
            "Total elapsed time: 02h 39m 58s\n",
            "INFO:tensorflow:Oracle triggered exit\n",
            "Epoch 1/30\n",
            "2808/2808 [==============================] - 5s 2ms/step - loss: 7.7577e-04 - mean_squared_error: 7.7577e-04 - val_loss: 5.6188e-04 - val_mean_squared_error: 5.6188e-04\n",
            "Epoch 2/30\n",
            "2808/2808 [==============================] - 5s 2ms/step - loss: 4.3193e-04 - mean_squared_error: 4.3193e-04 - val_loss: 3.5178e-04 - val_mean_squared_error: 3.5178e-04\n",
            "Epoch 3/30\n",
            "2808/2808 [==============================] - 5s 2ms/step - loss: 2.8718e-04 - mean_squared_error: 2.8718e-04 - val_loss: 2.5066e-04 - val_mean_squared_error: 2.5066e-04\n",
            "Epoch 4/30\n",
            "2808/2808 [==============================] - 5s 2ms/step - loss: 2.1492e-04 - mean_squared_error: 2.1492e-04 - val_loss: 1.9794e-04 - val_mean_squared_error: 1.9794e-04\n",
            "Epoch 5/30\n",
            "2808/2808 [==============================] - 5s 2ms/step - loss: 1.7738e-04 - mean_squared_error: 1.7738e-04 - val_loss: 1.7058e-04 - val_mean_squared_error: 1.7058e-04\n",
            "Epoch 6/30\n",
            "2808/2808 [==============================] - 5s 2ms/step - loss: 1.5802e-04 - mean_squared_error: 1.5802e-04 - val_loss: 1.5650e-04 - val_mean_squared_error: 1.5650e-04\n",
            "Epoch 7/30\n",
            "2808/2808 [==============================] - 5s 2ms/step - loss: 1.4808e-04 - mean_squared_error: 1.4808e-04 - val_loss: 1.4921e-04 - val_mean_squared_error: 1.4921e-04\n",
            "Epoch 8/30\n",
            "2808/2808 [==============================] - 5s 2ms/step - loss: 1.4291e-04 - mean_squared_error: 1.4291e-04 - val_loss: 1.4534e-04 - val_mean_squared_error: 1.4534e-04\n",
            "Epoch 9/30\n",
            "2808/2808 [==============================] - 5s 2ms/step - loss: 1.4008e-04 - mean_squared_error: 1.4008e-04 - val_loss: 1.4314e-04 - val_mean_squared_error: 1.4314e-04\n",
            "Epoch 10/30\n",
            "2808/2808 [==============================] - 5s 2ms/step - loss: 1.3845e-04 - mean_squared_error: 1.3845e-04 - val_loss: 1.4183e-04 - val_mean_squared_error: 1.4183e-04\n",
            "Epoch 11/30\n",
            "2808/2808 [==============================] - 5s 2ms/step - loss: 1.3743e-04 - mean_squared_error: 1.3743e-04 - val_loss: 1.4100e-04 - val_mean_squared_error: 1.4100e-04\n",
            "Epoch 12/30\n",
            "2808/2808 [==============================] - 5s 2ms/step - loss: 1.3675e-04 - mean_squared_error: 1.3675e-04 - val_loss: 1.4040e-04 - val_mean_squared_error: 1.4040e-04\n",
            "Epoch 13/30\n",
            "2808/2808 [==============================] - 5s 2ms/step - loss: 1.3626e-04 - mean_squared_error: 1.3626e-04 - val_loss: 1.3998e-04 - val_mean_squared_error: 1.3998e-04\n",
            "Epoch 14/30\n",
            "2808/2808 [==============================] - 5s 2ms/step - loss: 1.3590e-04 - mean_squared_error: 1.3590e-04 - val_loss: 1.3965e-04 - val_mean_squared_error: 1.3965e-04\n",
            "Epoch 15/30\n",
            "2808/2808 [==============================] - 5s 2ms/step - loss: 1.3561e-04 - mean_squared_error: 1.3561e-04 - val_loss: 1.3939e-04 - val_mean_squared_error: 1.3939e-04\n",
            "Epoch 16/30\n",
            "2808/2808 [==============================] - 5s 2ms/step - loss: 1.3538e-04 - mean_squared_error: 1.3538e-04 - val_loss: 1.3918e-04 - val_mean_squared_error: 1.3918e-04\n",
            "Epoch 17/30\n",
            "2808/2808 [==============================] - 5s 2ms/step - loss: 1.3520e-04 - mean_squared_error: 1.3520e-04 - val_loss: 1.3900e-04 - val_mean_squared_error: 1.3900e-04\n",
            "Epoch 18/30\n",
            "2808/2808 [==============================] - 5s 2ms/step - loss: 1.3504e-04 - mean_squared_error: 1.3504e-04 - val_loss: 1.3886e-04 - val_mean_squared_error: 1.3886e-04\n",
            "Epoch 19/30\n",
            "2808/2808 [==============================] - 5s 2ms/step - loss: 1.3490e-04 - mean_squared_error: 1.3490e-04 - val_loss: 1.3873e-04 - val_mean_squared_error: 1.3873e-04\n",
            "Epoch 20/30\n",
            "2808/2808 [==============================] - 5s 2ms/step - loss: 1.3478e-04 - mean_squared_error: 1.3478e-04 - val_loss: 1.3862e-04 - val_mean_squared_error: 1.3862e-04\n",
            "Epoch 21/30\n",
            "2808/2808 [==============================] - 5s 2ms/step - loss: 1.3468e-04 - mean_squared_error: 1.3468e-04 - val_loss: 1.3853e-04 - val_mean_squared_error: 1.3853e-04\n",
            "Epoch 22/30\n",
            "2808/2808 [==============================] - 5s 2ms/step - loss: 1.3459e-04 - mean_squared_error: 1.3459e-04 - val_loss: 1.3844e-04 - val_mean_squared_error: 1.3844e-04\n",
            "Epoch 23/30\n",
            "2808/2808 [==============================] - 5s 2ms/step - loss: 1.3450e-04 - mean_squared_error: 1.3450e-04 - val_loss: 1.3837e-04 - val_mean_squared_error: 1.3837e-04\n",
            "Epoch 24/30\n",
            "2808/2808 [==============================] - 5s 2ms/step - loss: 1.3443e-04 - mean_squared_error: 1.3443e-04 - val_loss: 1.3830e-04 - val_mean_squared_error: 1.3830e-04\n",
            "Epoch 25/30\n",
            "2808/2808 [==============================] - 5s 2ms/step - loss: 1.3436e-04 - mean_squared_error: 1.3436e-04 - val_loss: 1.3824e-04 - val_mean_squared_error: 1.3824e-04\n",
            "Epoch 26/30\n",
            "2808/2808 [==============================] - 5s 2ms/step - loss: 1.3430e-04 - mean_squared_error: 1.3430e-04 - val_loss: 1.3819e-04 - val_mean_squared_error: 1.3819e-04\n",
            "Epoch 27/30\n",
            "2808/2808 [==============================] - 5s 2ms/step - loss: 1.3424e-04 - mean_squared_error: 1.3424e-04 - val_loss: 1.3814e-04 - val_mean_squared_error: 1.3814e-04\n",
            "Epoch 28/30\n",
            "2808/2808 [==============================] - 5s 2ms/step - loss: 1.3419e-04 - mean_squared_error: 1.3419e-04 - val_loss: 1.3810e-04 - val_mean_squared_error: 1.3810e-04\n",
            "Epoch 29/30\n",
            "2808/2808 [==============================] - 5s 2ms/step - loss: 1.3414e-04 - mean_squared_error: 1.3414e-04 - val_loss: 1.3807e-04 - val_mean_squared_error: 1.3807e-04\n",
            "Epoch 30/30\n",
            "2808/2808 [==============================] - 5s 2ms/step - loss: 1.3410e-04 - mean_squared_error: 1.3410e-04 - val_loss: 1.3803e-04 - val_mean_squared_error: 1.3803e-04\n"
          ],
          "name": "stdout"
        }
      ]
    },
    {
      "cell_type": "code",
      "metadata": {
        "id": "PNejB9hFlHaa",
        "colab_type": "code",
        "colab": {
          "base_uri": "https://localhost:8080/",
          "height": 391
        },
        "outputId": "e7991b89-895e-43c6-b833-8a81f59ad3f7"
      },
      "source": [
        "model = reg_5.export_model()\n",
        "model.summary()"
      ],
      "execution_count": null,
      "outputs": [
        {
          "output_type": "stream",
          "text": [
            "Model: \"functional_1\"\n",
            "_________________________________________________________________\n",
            "Layer (type)                 Output Shape              Param #   \n",
            "=================================================================\n",
            "input_1 (InputLayer)         [(None, 2)]               0         \n",
            "_________________________________________________________________\n",
            "multi_category_encoding (Mul (None, 2)                 0         \n",
            "_________________________________________________________________\n",
            "dense (Dense)                (None, 32)                96        \n",
            "_________________________________________________________________\n",
            "re_lu (ReLU)                 (None, 32)                0         \n",
            "_________________________________________________________________\n",
            "dense_1 (Dense)              (None, 1024)              33792     \n",
            "_________________________________________________________________\n",
            "re_lu_1 (ReLU)               (None, 1024)              0         \n",
            "_________________________________________________________________\n",
            "regression_head_1 (Dense)    (None, 2)                 2050      \n",
            "=================================================================\n",
            "Total params: 35,938\n",
            "Trainable params: 35,938\n",
            "Non-trainable params: 0\n",
            "_________________________________________________________________\n"
          ],
          "name": "stdout"
        }
      ]
    },
    {
      "cell_type": "code",
      "metadata": {
        "id": "ik6EPWlwlHTg",
        "colab_type": "code",
        "colab": {}
      },
      "source": [
        "y_ = reg_5.predict(x_val)"
      ],
      "execution_count": null,
      "outputs": []
    },
    {
      "cell_type": "code",
      "metadata": {
        "id": "hwKf0mVqlHR9",
        "colab_type": "code",
        "colab": {}
      },
      "source": [
        "y_pred_cmpx = np.vectorize(complex)(y_[:,0]   , y_[:,1])\n",
        "y_val_cmpx  = np.vectorize(complex)(y_val[:,0], y_val[:,1])\n",
        "x_val_cmpx  = np.vectorize(complex)(x_val[:,0], x_val[:,1])"
      ],
      "execution_count": null,
      "outputs": []
    },
    {
      "cell_type": "code",
      "metadata": {
        "id": "zg0Naq2wlHKJ",
        "colab_type": "code",
        "colab": {
          "base_uri": "https://localhost:8080/",
          "height": 34
        },
        "outputId": "54db2cc1-a05a-4ced-99db-b071089c1b23"
      },
      "source": [
        "ex = x_val_cmpx * np.conj(x_val_cmpx)\n",
        "ee = (y_val_cmpx - y_pred_cmpx) * np.conj(y_val_cmpx - y_pred_cmpx)\n",
        "nmse = 10 * np.log10(np.mean(ee) / np.mean(ex))\n",
        "nmse"
      ],
      "execution_count": null,
      "outputs": [
        {
          "output_type": "execute_result",
          "data": {
            "text/plain": [
              "(-23.723833221579383+0j)"
            ]
          },
          "metadata": {
            "tags": []
          },
          "execution_count": 37
        }
      ]
    },
    {
      "cell_type": "code",
      "metadata": {
        "id": "yfOJtIu1lHBy",
        "colab_type": "code",
        "colab": {
          "base_uri": "https://localhost:8080/",
          "height": 350
        },
        "outputId": "4dc8ec7b-7623-4a2c-98c5-7c0aeecfdab4"
      },
      "source": [
        "plt.plot(y_val_cmpx * np.conj(y_val_cmpx))\n",
        "plt.plot(ee)"
      ],
      "execution_count": null,
      "outputs": [
        {
          "output_type": "stream",
          "text": [
            "/usr/local/lib/python3.6/dist-packages/numpy/core/_asarray.py:85: ComplexWarning: Casting complex values to real discards the imaginary part\n",
            "  return array(a, dtype, copy=False, order=order)\n",
            "/usr/local/lib/python3.6/dist-packages/numpy/core/_asarray.py:85: ComplexWarning: Casting complex values to real discards the imaginary part\n",
            "  return array(a, dtype, copy=False, order=order)\n"
          ],
          "name": "stderr"
        },
        {
          "output_type": "execute_result",
          "data": {
            "text/plain": [
              "[<matplotlib.lines.Line2D at 0x7fe094d5ea90>]"
            ]
          },
          "metadata": {
            "tags": []
          },
          "execution_count": 40
        },
        {
          "output_type": "display_data",
          "data": {
            "image/png": "[encoded data removed]",
            "text/plain": [
              "<Figure size 432x288 with 1 Axes>"
            ]
          },
          "metadata": {
            "tags": [],
            "needs_background": "light"
          }
        }
      ]
    },
    {
      "cell_type": "code",
      "metadata": {
        "id": "ihoVOkn6lG6v",
        "colab_type": "code",
        "colab": {
          "base_uri": "https://localhost:8080/",
          "height": 277
        },
        "outputId": "7703fc55-810a-42a3-ecf5-522a18f61966"
      },
      "source": [
        "from pyplot_lib.plot_lib import plot_psd\n",
        "plot_psd([x_val_cmpx, y_val_cmpx, y_val_cmpx - y_pred_cmpx])"
      ],
      "execution_count": null,
      "outputs": [
        {
          "output_type": "display_data",
          "data": {
            "image/png": "[encoded data removed]",
            "text/plain": [
              "<Figure size 432x288 with 1 Axes>"
            ]
          },
          "metadata": {
            "tags": [],
            "needs_background": "light"
          }
        }
      ]
    },
    {
      "cell_type": "markdown",
      "metadata": {
        "id": "rM0qcfc4TGHz",
        "colab_type": "text"
      },
      "source": [
        "Резюмируем результаты и затраченное время на симуляции:\n",
        "\n",
        "| Значение параметров        | Результаты (nmse/dbs) |Время архитектурного поиска|\n",
        "| :-------------------------  | ---------------------- | --------- |\n",
        "| max_trials = 1, epochs = 10 | -23.44                 |00h 00m 37s|\n",
        "| max_trials = 5, epochs = 30 | -23.51                 |00h 07m 37s|\n",
        "| max_trials = 50, epochs = 30| **-23.71**             |**02h 39m 58s**|"
      ]
    }
  ]
}
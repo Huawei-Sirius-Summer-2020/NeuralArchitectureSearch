{
  "nbformat": 4,
  "nbformat_minor": 0,
  "metadata": {
    "colab": {
      "name": "3_autokeras_notebook_times_series_.ipynb",
      "provenance": [],
      "collapsed_sections": [],
      "toc_visible": true
    },
    "kernelspec": {
      "name": "python3",
      "display_name": "Python 3"
    }
  },
  "cells": [
    {
      "cell_type": "markdown",
      "metadata": {
        "id": "Q0LLfzvxJpoL",
        "colab_type": "text"
      },
      "source": [
        "<center>\n",
        "\n",
        "![huawei-logo](https://www-file.huawei.com/-/media/corporate/images/home/logo/huawei_logo.png)\n",
        "\n",
        "<p><b>Летняя школа. \"Современные методы теории информации, оптимизации и управления\".</p></b>\n",
        "Sirius-2020.\n",
        "<center> <b>Авторы материала: к.т.н. Антонов Лев, Власов Роман."
      ]
    },
    {
      "cell_type": "markdown",
      "metadata": {
        "id": "5bs5vBf8KM4U",
        "colab_type": "text"
      },
      "source": [
        "## Возможность классификации временных рядов в AutoKeras"
      ]
    },
    {
      "cell_type": "code",
      "metadata": {
        "id": "ORzC2PCE2tzu",
        "colab_type": "code",
        "colab": {}
      },
      "source": [
        "!pip install git+https://github.com/keras-team/keras-tuner.git@1.0.2rc1  &> /dev/null\n",
        "!pip install autokeras  &> /dev/null"
      ],
      "execution_count": 1,
      "outputs": []
    },
    {
      "cell_type": "markdown",
      "metadata": {
        "id": "JuA9DaTCR8-C",
        "colab_type": "text"
      },
      "source": [
        "Синтезируем данные и передадим их в тонконастроенный объект **Automodel**"
      ]
    },
    {
      "cell_type": "code",
      "metadata": {
        "id": "jNApXQRu3BPx",
        "colab_type": "code",
        "colab": {
          "base_uri": "https://localhost:8080/",
          "height": 34
        },
        "outputId": "ba730fe8-fdf3-410f-d302-9f623b080df9"
      },
      "source": [
        "import numpy as np\n",
        "import autokeras as ak\n",
        "\n",
        "x = np.random.randn(100, 7, 3)\n",
        "y = np.random.choice([0, 1], size=100, p=[0.5, 0.5])\n",
        "x.shape, y.shape"
      ],
      "execution_count": null,
      "outputs": [
        {
          "output_type": "execute_result",
          "data": {
            "text/plain": [
              "((100, 7, 3), (100,))"
            ]
          },
          "metadata": {
            "tags": []
          },
          "execution_count": 6
        }
      ]
    },
    {
      "cell_type": "code",
      "metadata": {
        "id": "vyxSByVo3BS6",
        "colab_type": "code",
        "colab": {
          "base_uri": "https://localhost:8080/",
          "height": 187
        },
        "outputId": "2c411d7d-ff86-4ae2-dd25-328af89e4a4b"
      },
      "source": [
        "input_layer = ak.Input()\n",
        "rnn_layer = ak.RNNBlock(layer_type=\"lstm\")(input_layer)\n",
        "dense_layer = ak.DenseBlock()(rnn_layer)\n",
        "output_layer = ak.ClassificationHead(num_classes=2)(dense_layer)\n",
        "\n",
        "automodel = ak.AutoModel(input_layer, output_layer, max_trials=2, seed=123)\n",
        "automodel.fit(x, y, validation_split=0.2, epochs=2, batch_size=32)"
      ],
      "execution_count": null,
      "outputs": [
        {
          "output_type": "stream",
          "text": [
            "Trial 2 Complete [00h 00m 05s]\n",
            "val_loss: 0.6956886053085327\n",
            "\n",
            "Best val_loss So Far: 0.6956886053085327\n",
            "Total elapsed time: 00h 00m 15s\n",
            "INFO:tensorflow:Oracle triggered exit\n",
            "Epoch 1/2\n",
            "4/4 [==============================] - 0s 6ms/step - loss: 0.6941 - accuracy: 0.4700\n",
            "Epoch 2/2\n",
            "4/4 [==============================] - 0s 5ms/step - loss: 0.6928 - accuracy: 0.5400\n"
          ],
          "name": "stdout"
        }
      ]
    }
  ]
}
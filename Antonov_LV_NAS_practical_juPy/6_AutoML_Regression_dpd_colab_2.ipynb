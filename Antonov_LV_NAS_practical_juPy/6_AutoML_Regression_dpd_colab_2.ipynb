{
  "nbformat": 4,
  "nbformat_minor": 0,
  "metadata": {
    "colab": {
      "name": "6_AutoML_Regression_pdp_colab_2.ipynb",
      "provenance": [],
      "collapsed_sections": []
    },
    "kernelspec": {
      "display_name": "Python 3",
      "language": "python",
      "name": "python3"
    },
    "language_info": {
      "codemirror_mode": {
        "name": "ipython",
        "version": 3
      },
      "file_extension": ".py",
      "mimetype": "text/x-python",
      "name": "python",
      "nbconvert_exporter": "python",
      "pygments_lexer": "ipython3",
      "version": "3.7.0"
    }
  },
  "cells": [
    {
      "cell_type": "markdown",
      "metadata": {
        "colab_type": "text",
        "id": "FpRgLQaKWbaX"
      },
      "source": [
        "<center>\n",
        "\n",
        "![huawei-logo](https://www-file.huawei.com/-/media/corporate/images/home/logo/huawei_logo.png)\n",
        "\n",
        "<p><b>Летняя школа. \"Современные методы теории информации, оптимизации и управления\".</p></b>\n",
        "Sirius-2020.\n",
        "<center> <b>Авторы материала: к.т.н. Антонов Лев, Власов Роман.\n",
        "\n"
      ]
    },
    {
      "cell_type": "markdown",
      "metadata": {
        "colab_type": "text",
        "id": "AlG9MelsXFA1"
      },
      "source": [
        "## Применение AutoKeras к задаче DPD"
      ]
    },
    {
      "cell_type": "code",
      "metadata": {
        "colab_type": "code",
        "id": "2BdoXj5aa7d8",
        "colab": {}
      },
      "source": [
        "!pip install git+https://github.com/keras-team/keras-tuner.git@1.0.2rc1 &> /dev/null\n",
        "!pip install autokeras &> /dev/null\n",
        "!git clone https://gitlab.com/spbroma/pyplot_lib.git &> /dev/null"
      ],
      "execution_count": 8,
      "outputs": []
    },
    {
      "cell_type": "code",
      "metadata": {
        "colab_type": "code",
        "id": "Zi3VIPgZbuDr",
        "colab": {}
      },
      "source": [
        "from sklearn.datasets import fetch_california_housing\n",
        "import numpy as np\n",
        "import pandas as pd\n",
        "import tensorflow as tf\n",
        "import autokeras as ak\n",
        "import matplotlib.pyplot as plt\n",
        "from matplotlib.pyplot import grid"
      ],
      "execution_count": 9,
      "outputs": []
    },
    {
      "cell_type": "code",
      "metadata": {
        "colab_type": "code",
        "id": "RGLj7_dnbuGy",
        "colab": {
          "base_uri": "https://localhost:8080/",
          "height": 122
        },
        "outputId": "18170cb9-73c7-4257-e7fd-fa0b62dddaf9"
      },
      "source": [
        "# Import signal from Google Drive\n",
        "\n",
        "#import scipy.io\n",
        "#import subprocess\n",
        "#import os\n",
        "\n",
        "#from google.colab import drive\n",
        "#drive.mount('/content/drive')\n",
        "# import signal\n",
        "#mat = scipy.io.loadmat('/content/drive/My Drive/Colab Notebooks/datasets/BlackBoxData_80.mat')\n",
        "#mat = scipy.io.loadmat('../../../../../_datasets/dpd/BlackBoxData/BlackBoxData_80.mat')"
      ],
      "execution_count": null,
      "outputs": [
        {
          "output_type": "stream",
          "text": [
            "Go to this URL in a browser: https://accounts.google.com/o/oauth2/auth?client_id=947318989803-6bn6qk8qdgf4n4g3pfee6491hc0brc4i.apps.googleusercontent.com&redirect_uri=urn%3aietf%3awg%3aoauth%3a2.0%3aoob&response_type=code&scope=email%20https%3a%2f%2fwww.googleapis.com%2fauth%2fdocs.test%20https%3a%2f%2fwww.googleapis.com%2fauth%2fdrive%20https%3a%2f%2fwww.googleapis.com%2fauth%2fdrive.photos.readonly%20https%3a%2f%2fwww.googleapis.com%2fauth%2fpeopleapi.readonly\n",
            "\n",
            "Enter your authorization code:\n",
            "··········\n",
            "Mounted at /content/drive\n"
          ],
          "name": "stdout"
        }
      ]
    },
    {
      "cell_type": "code",
      "metadata": {
        "colab_type": "code",
        "id": "tqHRt6lRbuJu",
        "colab": {
          "base_uri": "https://localhost:8080/",
          "height": 357
        },
        "outputId": "46df3e96-80f1-40e3-c03e-4e9641cd4f35"
      },
      "source": [
        "# Import signal from github\n",
        "\n",
        "import scipy.io\n",
        "import subprocess\n",
        "import os\n",
        "# import signal\n",
        "#mat = scipy.io.loadmat('/content/drive/My Drive/Colab Notebooks/datasets/BlackBoxData_80.mat')\n",
        "\n",
        "# raw=true is important so you download the file rather than the webpage.\n",
        "!wget https://github.com/Huawei-Sirius-Summer-2020/BlackBoxData/blob/master/BlackBoxData_80.mat?raw=true\n",
        "# rename the file\n",
        "!mv BlackBoxData_80.mat\\?raw\\=true BlackBoxData_80.mat\n",
        "# update scipy\n",
        "#!pip install -U -q scipy\n",
        "# Load the data\n",
        "mat = scipy.io.loadmat('BlackBoxData_80.mat')"
      ],
      "execution_count": 10,
      "outputs": [
        {
          "output_type": "stream",
          "text": [
            "--2020-08-13 09:58:21--  https://github.com/Huawei-Sirius-Summer-2020/BlackBoxData/blob/master/BlackBoxData_80.mat?raw=true\n",
            "Resolving github.com (github.com)... 140.82.114.3\n",
            "Connecting to github.com (github.com)|140.82.114.3|:443... connected.\n",
            "HTTP request sent, awaiting response... 302 Found\n",
            "Location: https://github.com/Huawei-Sirius-Summer-2020/BlackBoxData/raw/master/BlackBoxData_80.mat [following]\n",
            "--2020-08-13 09:58:22--  https://github.com/Huawei-Sirius-Summer-2020/BlackBoxData/raw/master/BlackBoxData_80.mat\n",
            "Reusing existing connection to github.com:443.\n",
            "HTTP request sent, awaiting response... 302 Found\n",
            "Location: https://raw.githubusercontent.com/Huawei-Sirius-Summer-2020/BlackBoxData/master/BlackBoxData_80.mat [following]\n",
            "--2020-08-13 09:58:23--  https://raw.githubusercontent.com/Huawei-Sirius-Summer-2020/BlackBoxData/master/BlackBoxData_80.mat\n",
            "Resolving raw.githubusercontent.com (raw.githubusercontent.com)... 151.101.0.133, 151.101.64.133, 151.101.128.133, ...\n",
            "Connecting to raw.githubusercontent.com (raw.githubusercontent.com)|151.101.0.133|:443... connected.\n",
            "HTTP request sent, awaiting response... 200 OK\n",
            "Length: 3378846 (3.2M) [application/octet-stream]\n",
            "Saving to: ‘BlackBoxData_80.mat?raw=true’\n",
            "\n",
            "BlackBoxData_80.mat 100%[===================>]   3.22M  11.2MB/s    in 0.3s    \n",
            "\n",
            "2020-08-13 09:58:24 (11.2 MB/s) - ‘BlackBoxData_80.mat?raw=true’ saved [3378846/3378846]\n",
            "\n"
          ],
          "name": "stdout"
        }
      ]
    },
    {
      "cell_type": "code",
      "metadata": {
        "colab_type": "code",
        "id": "s_O3fRJdcLK_",
        "colab": {}
      },
      "source": [
        "x = (mat['x'] * (2 ** -15)).reshape(-1, 1)\n",
        "y = (mat['y'] * (2 ** -15)).reshape(-1, 1)\n",
        "\n",
        "X = np.concatenate((np.real(x), np.imag(x)), axis=1)\n",
        "Y = np.concatenate((np.real(y), np.imag(y)), axis=1)\n",
        "\n",
        "X = pd.DataFrame(X)\n",
        "Y = pd.DataFrame(Y)"
      ],
      "execution_count": 11,
      "outputs": []
    },
    {
      "cell_type": "markdown",
      "metadata": {
        "colab_type": "text",
        "id": "TrxaYDWIf0lN"
      },
      "source": [
        "> В предыдущем примере сигнал подавался на вход алгоритма генерации нейронной сети в виде двух склеенных векторов (реальной и мнимой частей). Теперь давайте рассмотрим **другой вариант представления данных**.\n",
        "\n",
        "> Рассмотрим сигнал снятый с усилителя."
      ]
    },
    {
      "cell_type": "code",
      "metadata": {
        "colab_type": "code",
        "id": "mCiD-KLzg4Ul",
        "colab": {
          "base_uri": "https://localhost:8080/",
          "height": 320
        },
        "outputId": "c955fe6c-d3d9-425c-aac2-db1ab114b68d"
      },
      "source": [
        "fig, axes1 = plt.subplots(1, 3, figsize=(25, 5))\n",
        "axes1[0].plot(np.abs(x))\n",
        "axes1[1].plot(np.abs(x[8300:8500]))\n",
        "axes1[2].plot(np.abs(x[8340:8360]))\n",
        "axes1[2].plot(5, np.abs(x[8345]), marker = \"o\", label='current sample')\n",
        "axes1[2].annotate('Current Point', (5, np.abs(x[8345])))\n",
        "axes1[2].plot(6, np.abs(x[8346]), marker = \"o\")\n",
        "axes1[2].plot(4, np.abs(x[8344]), marker = \"o\")\n",
        "grid('on')\n",
        "\n",
        "#plt.plot(np.abs(x))"
      ],
      "execution_count": null,
      "outputs": [
        {
          "output_type": "display_data",
          "data": {
            "image/png": "[encoded data removed]",
            "text/plain": [
              "<Figure size 1800x360 with 3 Axes>"
            ]
          },
          "metadata": {
            "tags": [],
            "needs_background": "light"
          }
        }
      ]
    },
    {
      "cell_type": "markdown",
      "metadata": {
        "colab_type": "text",
        "id": "IjejQKTNt9Fo"
      },
      "source": [
        "> Из графиков видно, как непредсказуемо возрастает и падает амплитуда сигнала в результате чего на кривой изменения abs сигнала есть восходящие и нисходящие тренды. Чтобы модель понимала, какой тренд присутствует сейчас в текущей точке давайте передадим текущий сэмпл вместе с предыдущим и последующим, чтобы модель могла учиться находить закономерности и тренды в сигнале.\n",
        "\n",
        "> Вводим понятие **\"модели с памятью\"**.\n",
        "\n",
        "\n",
        "\n",
        "\n"
      ]
    },
    {
      "cell_type": "code",
      "metadata": {
        "colab_type": "code",
        "id": "vjlZjhZSiP7v",
        "colab": {}
      },
      "source": [
        "# Функция формирования матрицы сигнала со смещением\n",
        "def shift_df(df, delay):\n",
        "  df_new = []\n",
        "  for i in np.arange(-delay, delay + 1):\n",
        "    df_new.append(df.shift(periods=i, fill_value=0))\n",
        "\n",
        "  df_new = pd.concat(df_new, axis=1)\n",
        "  return df_new"
      ],
      "execution_count": 6,
      "outputs": []
    },
    {
      "cell_type": "code",
      "metadata": {
        "colab_type": "code",
        "id": "IsRb-9f_M6MG",
        "colab": {
          "base_uri": "https://localhost:8080/",
          "height": 173
        },
        "outputId": "1f273101-fc3a-4b3c-d6a9-cbeaab46fb5a"
      },
      "source": [
        "A = pd.DataFrame([1+1j, 2+2j, 3-1j, 4+7j])\n",
        "A"
      ],
      "execution_count": null,
      "outputs": [
        {
          "output_type": "execute_result",
          "data": {
            "text/html": [
              "<div>\n",
              "<style scoped>\n",
              "    .dataframe tbody tr th:only-of-type {\n",
              "        vertical-align: middle;\n",
              "    }\n",
              "\n",
              "    .dataframe tbody tr th {\n",
              "        vertical-align: top;\n",
              "    }\n",
              "\n",
              "    .dataframe thead th {\n",
              "        text-align: right;\n",
              "    }\n",
              "</style>\n",
              "<table border=\"1\" class=\"dataframe\">\n",
              "  <thead>\n",
              "    <tr style=\"text-align: right;\">\n",
              "      <th></th>\n",
              "      <th>0</th>\n",
              "    </tr>\n",
              "  </thead>\n",
              "  <tbody>\n",
              "    <tr>\n",
              "      <th>0</th>\n",
              "      <td>1.000000+1.000000j</td>\n",
              "    </tr>\n",
              "    <tr>\n",
              "      <th>1</th>\n",
              "      <td>2.000000+2.000000j</td>\n",
              "    </tr>\n",
              "    <tr>\n",
              "      <th>2</th>\n",
              "      <td>3.000000-1.000000j</td>\n",
              "    </tr>\n",
              "    <tr>\n",
              "      <th>3</th>\n",
              "      <td>4.000000+7.000000j</td>\n",
              "    </tr>\n",
              "  </tbody>\n",
              "</table>\n",
              "</div>"
            ],
            "text/plain": [
              "                    0\n",
              "0  1.000000+1.000000j\n",
              "1  2.000000+2.000000j\n",
              "2  3.000000-1.000000j\n",
              "3  4.000000+7.000000j"
            ]
          },
          "metadata": {
            "tags": []
          },
          "execution_count": 37
        }
      ]
    },
    {
      "cell_type": "code",
      "metadata": {
        "colab_type": "code",
        "id": "mYG2ab5iM5-1",
        "colab": {
          "base_uri": "https://localhost:8080/",
          "height": 173
        },
        "outputId": "ae1dfdbd-be1a-4d7d-c928-b5fba774bba6"
      },
      "source": [
        "# Матрица A, содержащая сигнал с задержками\n",
        "shift_df(A, 1)"
      ],
      "execution_count": null,
      "outputs": [
        {
          "output_type": "execute_result",
          "data": {
            "text/html": [
              "<div>\n",
              "<style scoped>\n",
              "    .dataframe tbody tr th:only-of-type {\n",
              "        vertical-align: middle;\n",
              "    }\n",
              "\n",
              "    .dataframe tbody tr th {\n",
              "        vertical-align: top;\n",
              "    }\n",
              "\n",
              "    .dataframe thead th {\n",
              "        text-align: right;\n",
              "    }\n",
              "</style>\n",
              "<table border=\"1\" class=\"dataframe\">\n",
              "  <thead>\n",
              "    <tr style=\"text-align: right;\">\n",
              "      <th></th>\n",
              "      <th>0</th>\n",
              "      <th>0</th>\n",
              "      <th>0</th>\n",
              "    </tr>\n",
              "  </thead>\n",
              "  <tbody>\n",
              "    <tr>\n",
              "      <th>0</th>\n",
              "      <td>2.000000+2.000000j</td>\n",
              "      <td>1.000000+1.000000j</td>\n",
              "      <td>0.000000+0.000000j</td>\n",
              "    </tr>\n",
              "    <tr>\n",
              "      <th>1</th>\n",
              "      <td>3.000000-1.000000j</td>\n",
              "      <td>2.000000+2.000000j</td>\n",
              "      <td>1.000000+1.000000j</td>\n",
              "    </tr>\n",
              "    <tr>\n",
              "      <th>2</th>\n",
              "      <td>4.000000+7.000000j</td>\n",
              "      <td>3.000000-1.000000j</td>\n",
              "      <td>2.000000+2.000000j</td>\n",
              "    </tr>\n",
              "    <tr>\n",
              "      <th>3</th>\n",
              "      <td>0.000000+0.000000j</td>\n",
              "      <td>4.000000+7.000000j</td>\n",
              "      <td>3.000000-1.000000j</td>\n",
              "    </tr>\n",
              "  </tbody>\n",
              "</table>\n",
              "</div>"
            ],
            "text/plain": [
              "                    0                   0                   0\n",
              "0  2.000000+2.000000j  1.000000+1.000000j  0.000000+0.000000j\n",
              "1  3.000000-1.000000j  2.000000+2.000000j  1.000000+1.000000j\n",
              "2  4.000000+7.000000j  3.000000-1.000000j  2.000000+2.000000j\n",
              "3  0.000000+0.000000j  4.000000+7.000000j  3.000000-1.000000j"
            ]
          },
          "metadata": {
            "tags": []
          },
          "execution_count": 40
        }
      ]
    },
    {
      "cell_type": "code",
      "metadata": {
        "colab_type": "code",
        "id": "OnRWAz6Ficj6",
        "colab": {
          "base_uri": "https://localhost:8080/",
          "height": 419
        },
        "outputId": "eed0e14b-f5a7-4e5f-daaa-6d1d562a893c"
      },
      "source": [
        "shift_df(X, 1)"
      ],
      "execution_count": null,
      "outputs": [
        {
          "output_type": "execute_result",
          "data": {
            "text/html": [
              "<div>\n",
              "<style scoped>\n",
              "    .dataframe tbody tr th:only-of-type {\n",
              "        vertical-align: middle;\n",
              "    }\n",
              "\n",
              "    .dataframe tbody tr th {\n",
              "        vertical-align: top;\n",
              "    }\n",
              "\n",
              "    .dataframe thead th {\n",
              "        text-align: right;\n",
              "    }\n",
              "</style>\n",
              "<table border=\"1\" class=\"dataframe\">\n",
              "  <thead>\n",
              "    <tr style=\"text-align: right;\">\n",
              "      <th></th>\n",
              "      <th>0</th>\n",
              "      <th>1</th>\n",
              "      <th>0</th>\n",
              "      <th>1</th>\n",
              "      <th>0</th>\n",
              "      <th>1</th>\n",
              "    </tr>\n",
              "  </thead>\n",
              "  <tbody>\n",
              "    <tr>\n",
              "      <th>0</th>\n",
              "      <td>-0.007660</td>\n",
              "      <td>-0.017914</td>\n",
              "      <td>0.002380</td>\n",
              "      <td>-0.013489</td>\n",
              "      <td>0.000000</td>\n",
              "      <td>0.000000</td>\n",
              "    </tr>\n",
              "    <tr>\n",
              "      <th>1</th>\n",
              "      <td>-0.015259</td>\n",
              "      <td>-0.017792</td>\n",
              "      <td>-0.007660</td>\n",
              "      <td>-0.017914</td>\n",
              "      <td>0.002380</td>\n",
              "      <td>-0.013489</td>\n",
              "    </tr>\n",
              "    <tr>\n",
              "      <th>2</th>\n",
              "      <td>-0.018250</td>\n",
              "      <td>-0.012939</td>\n",
              "      <td>-0.015259</td>\n",
              "      <td>-0.017792</td>\n",
              "      <td>-0.007660</td>\n",
              "      <td>-0.017914</td>\n",
              "    </tr>\n",
              "    <tr>\n",
              "      <th>3</th>\n",
              "      <td>-0.016083</td>\n",
              "      <td>-0.004303</td>\n",
              "      <td>-0.018250</td>\n",
              "      <td>-0.012939</td>\n",
              "      <td>-0.015259</td>\n",
              "      <td>-0.017792</td>\n",
              "    </tr>\n",
              "    <tr>\n",
              "      <th>4</th>\n",
              "      <td>-0.009918</td>\n",
              "      <td>0.006195</td>\n",
              "      <td>-0.016083</td>\n",
              "      <td>-0.004303</td>\n",
              "      <td>-0.018250</td>\n",
              "      <td>-0.012939</td>\n",
              "    </tr>\n",
              "    <tr>\n",
              "      <th>...</th>\n",
              "      <td>...</td>\n",
              "      <td>...</td>\n",
              "      <td>...</td>\n",
              "      <td>...</td>\n",
              "      <td>...</td>\n",
              "      <td>...</td>\n",
              "    </tr>\n",
              "    <tr>\n",
              "      <th>99835</th>\n",
              "      <td>0.053253</td>\n",
              "      <td>0.060852</td>\n",
              "      <td>-0.006958</td>\n",
              "      <td>0.080994</td>\n",
              "      <td>-0.047638</td>\n",
              "      <td>0.111328</td>\n",
              "    </tr>\n",
              "    <tr>\n",
              "      <th>99836</th>\n",
              "      <td>0.103882</td>\n",
              "      <td>0.046875</td>\n",
              "      <td>0.053253</td>\n",
              "      <td>0.060852</td>\n",
              "      <td>-0.006958</td>\n",
              "      <td>0.080994</td>\n",
              "    </tr>\n",
              "    <tr>\n",
              "      <th>99837</th>\n",
              "      <td>0.117188</td>\n",
              "      <td>0.032227</td>\n",
              "      <td>0.103882</td>\n",
              "      <td>0.046875</td>\n",
              "      <td>0.053253</td>\n",
              "      <td>0.060852</td>\n",
              "    </tr>\n",
              "    <tr>\n",
              "      <th>99838</th>\n",
              "      <td>0.077148</td>\n",
              "      <td>0.012268</td>\n",
              "      <td>0.117188</td>\n",
              "      <td>0.032227</td>\n",
              "      <td>0.103882</td>\n",
              "      <td>0.046875</td>\n",
              "    </tr>\n",
              "    <tr>\n",
              "      <th>99839</th>\n",
              "      <td>0.000000</td>\n",
              "      <td>0.000000</td>\n",
              "      <td>0.077148</td>\n",
              "      <td>0.012268</td>\n",
              "      <td>0.117188</td>\n",
              "      <td>0.032227</td>\n",
              "    </tr>\n",
              "  </tbody>\n",
              "</table>\n",
              "<p>99840 rows × 6 columns</p>\n",
              "</div>"
            ],
            "text/plain": [
              "              0         1         0         1         0         1\n",
              "0     -0.007660 -0.017914  0.002380 -0.013489  0.000000  0.000000\n",
              "1     -0.015259 -0.017792 -0.007660 -0.017914  0.002380 -0.013489\n",
              "2     -0.018250 -0.012939 -0.015259 -0.017792 -0.007660 -0.017914\n",
              "3     -0.016083 -0.004303 -0.018250 -0.012939 -0.015259 -0.017792\n",
              "4     -0.009918  0.006195 -0.016083 -0.004303 -0.018250 -0.012939\n",
              "...         ...       ...       ...       ...       ...       ...\n",
              "99835  0.053253  0.060852 -0.006958  0.080994 -0.047638  0.111328\n",
              "99836  0.103882  0.046875  0.053253  0.060852 -0.006958  0.080994\n",
              "99837  0.117188  0.032227  0.103882  0.046875  0.053253  0.060852\n",
              "99838  0.077148  0.012268  0.117188  0.032227  0.103882  0.046875\n",
              "99839  0.000000  0.000000  0.077148  0.012268  0.117188  0.032227\n",
              "\n",
              "[99840 rows x 6 columns]"
            ]
          },
          "metadata": {
            "tags": []
          },
          "execution_count": 7
        }
      ]
    },
    {
      "cell_type": "markdown",
      "metadata": {
        "colab_type": "text",
        "id": "_eOrSppZOh1K"
      },
      "source": [
        "### Симуляция 1\n",
        "\n",
        "Разделим сформированную матрицу на train и validation и передадим в модель.\n",
        "Регрессор запустим всего с одной моделью (max_trials = 1), что бы понять как увеличение количества признаков повлияет на результат."
      ]
    },
    {
      "cell_type": "code",
      "metadata": {
        "colab_type": "code",
        "id": "66jZ4Kqij7Q5",
        "colab": {}
      },
      "source": [
        "s = int(X.shape[0] * 0.9)\n",
        "x_train = X[:s]; x_val = X[s:]\n",
        "y_train = Y[:s]; y_val = Y[s:]"
      ],
      "execution_count": 13,
      "outputs": []
    },
    {
      "cell_type": "code",
      "metadata": {
        "colab_type": "code",
        "id": "Jvpni-8We38C",
        "colab": {
          "base_uri": "https://localhost:8080/",
          "height": 34
        },
        "outputId": "94e8a815-ba54-4e8a-95bf-512cf5156d24"
      },
      "source": [
        "x_train_del = shift_df(pd.DataFrame(x_train), 1)\n",
        "x_val_del   = shift_df(pd.DataFrame(x_val), 1)\n",
        "x_train_del.shape, y_train.shape, x_val_del.shape, y_val.shape"
      ],
      "execution_count": null,
      "outputs": [
        {
          "output_type": "execute_result",
          "data": {
            "text/plain": [
              "((89856, 6), (89856, 2), (9984, 6), (9984, 2))"
            ]
          },
          "metadata": {
            "tags": []
          },
          "execution_count": 9
        }
      ]
    },
    {
      "cell_type": "code",
      "metadata": {
        "colab_type": "code",
        "id": "8BwSNqBZbuO8",
        "colab": {
          "base_uri": "https://localhost:8080/",
          "height": 459
        },
        "outputId": "79fccf8c-7c67-47e8-854d-a2b274737da2"
      },
      "source": [
        "OUTPUT_PATH = '6_AutoML_Regression_pdp'\n",
        "\n",
        "# Initialize the structured data regressor.\n",
        "reg = ak.StructuredDataRegressor(\n",
        "    overwrite=True,\n",
        "    max_trials=1,\n",
        "    directory  = OUTPUT_PATH,\n",
        "    seed = 123) \n",
        "\n",
        "reg.fit(x_train_del,\n",
        "        y_train,\n",
        "        # Use your own validation set.\n",
        "        validation_data=(x_val_del, y_val),\n",
        "        epochs=10)"
      ],
      "execution_count": null,
      "outputs": [
        {
          "output_type": "stream",
          "text": [
            "Trial 1 Complete [00h 00m 37s]\n",
            "val_loss: 3.6135254049440846e-05\n",
            "\n",
            "Best val_loss So Far: 3.6135254049440846e-05\n",
            "Total elapsed time: 00h 00m 37s\n",
            "INFO:tensorflow:Oracle triggered exit\n",
            "Epoch 1/10\n",
            "2808/2808 [==============================] - 4s 1ms/step - loss: 1.2355e-04 - mean_squared_error: 1.2355e-04 - val_loss: 8.3403e-05 - val_mean_squared_error: 8.3403e-05\n",
            "Epoch 2/10\n",
            "2808/2808 [==============================] - 4s 1ms/step - loss: 7.1161e-05 - mean_squared_error: 7.1161e-05 - val_loss: 7.1545e-05 - val_mean_squared_error: 7.1545e-05\n",
            "Epoch 3/10\n",
            "2808/2808 [==============================] - 4s 1ms/step - loss: 6.1240e-05 - mean_squared_error: 6.1240e-05 - val_loss: 6.3623e-05 - val_mean_squared_error: 6.3623e-05\n",
            "Epoch 4/10\n",
            "2808/2808 [==============================] - 4s 1ms/step - loss: 5.4549e-05 - mean_squared_error: 5.4549e-05 - val_loss: 5.7503e-05 - val_mean_squared_error: 5.7503e-05\n",
            "Epoch 5/10\n",
            "2808/2808 [==============================] - 4s 1ms/step - loss: 4.9455e-05 - mean_squared_error: 4.9455e-05 - val_loss: 5.5601e-05 - val_mean_squared_error: 5.5601e-05\n",
            "Epoch 6/10\n",
            "2808/2808 [==============================] - 4s 1ms/step - loss: 4.5826e-05 - mean_squared_error: 4.5826e-05 - val_loss: 5.2353e-05 - val_mean_squared_error: 5.2353e-05\n",
            "Epoch 7/10\n",
            "2808/2808 [==============================] - 4s 1ms/step - loss: 4.2682e-05 - mean_squared_error: 4.2682e-05 - val_loss: 5.0064e-05 - val_mean_squared_error: 5.0064e-05\n",
            "Epoch 8/10\n",
            "2808/2808 [==============================] - 4s 1ms/step - loss: 4.0139e-05 - mean_squared_error: 4.0139e-05 - val_loss: 4.5016e-05 - val_mean_squared_error: 4.5016e-05\n",
            "Epoch 9/10\n",
            "2808/2808 [==============================] - 4s 1ms/step - loss: 3.8069e-05 - mean_squared_error: 3.8069e-05 - val_loss: 4.3660e-05 - val_mean_squared_error: 4.3660e-05\n",
            "Epoch 10/10\n",
            "2808/2808 [==============================] - 4s 1ms/step - loss: 3.6543e-05 - mean_squared_error: 3.6543e-05 - val_loss: 3.8223e-05 - val_mean_squared_error: 3.8223e-05\n"
          ],
          "name": "stdout"
        }
      ]
    },
    {
      "cell_type": "code",
      "metadata": {
        "colab_type": "code",
        "id": "6kTqt5kIbuSs",
        "colab": {
          "base_uri": "https://localhost:8080/",
          "height": 323
        },
        "outputId": "e3cd790e-94bd-4775-9e2f-e1067327b2f4"
      },
      "source": [
        "model = reg.export_model()\n",
        "model.summary()"
      ],
      "execution_count": null,
      "outputs": [
        {
          "output_type": "stream",
          "text": [
            "Model: \"functional_1\"\n",
            "_________________________________________________________________\n",
            "Layer (type)                 Output Shape              Param #   \n",
            "=================================================================\n",
            "input_1 (InputLayer)         [(None, 6)]               0         \n",
            "_________________________________________________________________\n",
            "multi_category_encoding (Mul (None, 6)                 0         \n",
            "_________________________________________________________________\n",
            "dense (Dense)                (None, 256)               1792      \n",
            "_________________________________________________________________\n",
            "re_lu (ReLU)                 (None, 256)               0         \n",
            "_________________________________________________________________\n",
            "regression_head_1 (Dense)    (None, 2)                 514       \n",
            "=================================================================\n",
            "Total params: 2,306\n",
            "Trainable params: 2,306\n",
            "Non-trainable params: 0\n",
            "_________________________________________________________________\n"
          ],
          "name": "stdout"
        }
      ]
    },
    {
      "cell_type": "code",
      "metadata": {
        "colab_type": "code",
        "id": "Ja54PEIlbuWx",
        "colab": {}
      },
      "source": [
        "y_ = reg.predict(x_val_del)"
      ],
      "execution_count": null,
      "outputs": []
    },
    {
      "cell_type": "code",
      "metadata": {
        "colab_type": "code",
        "id": "gToxds2HbuZV",
        "colab": {}
      },
      "source": [
        "y_pred_cmpx = np.vectorize(complex)(y_[:,0]   , y_[:,1])\n",
        "y_val_cmpx  = np.vectorize(complex)(np.array(y_val)[:,0], np.array(y_val)[:,1])\n",
        "x_val_cmpx  = np.vectorize(complex)(np.array(x_val)[:,0], np.array(x_val)[:,1])"
      ],
      "execution_count": null,
      "outputs": []
    },
    {
      "cell_type": "code",
      "metadata": {
        "colab_type": "code",
        "id": "kLK3365Rbuc6",
        "colab": {
          "base_uri": "https://localhost:8080/",
          "height": 34
        },
        "outputId": "8497a8ac-e77a-4833-ab56-57f1f35573fa"
      },
      "source": [
        "ex = x_val_cmpx * np.conj(x_val_cmpx)\n",
        "ee = (y_val_cmpx - y_pred_cmpx) * np.conj(y_val_cmpx - y_pred_cmpx)\n",
        "nmse = 10 * np.log10(np.mean(ee) / np.mean(ex))\n",
        "nmse"
      ],
      "execution_count": null,
      "outputs": [
        {
          "output_type": "execute_result",
          "data": {
            "text/plain": [
              "(-29.300411377048107+0j)"
            ]
          },
          "metadata": {
            "tags": []
          },
          "execution_count": 14
        }
      ]
    },
    {
      "cell_type": "code",
      "metadata": {
        "colab_type": "code",
        "id": "MPAYdP1zbue6",
        "colab": {
          "base_uri": "https://localhost:8080/",
          "height": 455
        },
        "outputId": "3b0106b7-41b4-49d2-f21d-5be77d2df56d"
      },
      "source": [
        "plt.plot(y_val_cmpx * np.conj(y_val_cmpx))\n",
        "plt.plot(ee)"
      ],
      "execution_count": null,
      "outputs": [
        {
          "output_type": "stream",
          "text": [
            "/usr/local/lib/python3.6/dist-packages/numpy/core/_asarray.py:85: ComplexWarning: Casting complex values to real discards the imaginary part\n",
            "  return array(a, dtype, copy=False, order=order)\n",
            "/usr/local/lib/python3.6/dist-packages/numpy/core/_asarray.py:85: ComplexWarning: Casting complex values to real discards the imaginary part\n",
            "  return array(a, dtype, copy=False, order=order)\n"
          ],
          "name": "stderr"
        },
        {
          "output_type": "execute_result",
          "data": {
            "text/plain": [
              "[<matplotlib.lines.Line2D at 0x7f4a6307cf28>]"
            ]
          },
          "metadata": {
            "tags": []
          },
          "execution_count": 15
        },
        {
          "output_type": "stream",
          "text": [
            "WARNING:tensorflow:Unresolved object in checkpoint: (root).optimizer.iter\n",
            "WARNING:tensorflow:Unresolved object in checkpoint: (root).optimizer.beta_1\n",
            "WARNING:tensorflow:Unresolved object in checkpoint: (root).optimizer.beta_2\n",
            "WARNING:tensorflow:Unresolved object in checkpoint: (root).optimizer.decay\n",
            "WARNING:tensorflow:Unresolved object in checkpoint: (root).optimizer.learning_rate\n",
            "WARNING:tensorflow:A checkpoint was restored (e.g. tf.train.Checkpoint.restore or tf.keras.Model.load_weights) but not all checkpointed values were used. See above for specific issues. Use expect_partial() on the load status object, e.g. tf.train.Checkpoint.restore(...).expect_partial(), to silence these warnings, or use assert_consumed() to make the check explicit. See https://www.tensorflow.org/guide/checkpoint#loading_mechanics for details.\n"
          ],
          "name": "stdout"
        },
        {
          "output_type": "display_data",
          "data": {
            "image/png": "[encoded data removed]",
            "text/plain": [
              "<Figure size 432x288 with 1 Axes>"
            ]
          },
          "metadata": {
            "tags": [],
            "needs_background": "light"
          }
        }
      ]
    },
    {
      "cell_type": "code",
      "metadata": {
        "colab_type": "code",
        "id": "d4KzCRRlbuht",
        "colab": {
          "base_uri": "https://localhost:8080/",
          "height": 277
        },
        "outputId": "1fe409d2-9dd8-4a69-d89e-bacf9e11674f"
      },
      "source": [
        "from pyplot_lib.plot_lib import plot_psd\n",
        "plot_psd([x_val_cmpx, y_val_cmpx, y_val_cmpx - y_pred_cmpx])"
      ],
      "execution_count": null,
      "outputs": [
        {
          "output_type": "display_data",
          "data": {
            "image/png": "[encoded data removed]",
            "text/plain": [
              "<Figure size 432x288 with 1 Axes>"
            ]
          },
          "metadata": {
            "tags": [],
            "needs_background": "light"
          }
        }
      ]
    },
    {
      "cell_type": "markdown",
      "metadata": {
        "colab_type": "text",
        "id": "wz-B4K0ty5gz"
      },
      "source": [
        "Но как понять, какое количество сэмплов нужно задержать, чтобы алгоритм еще улучшил перформанс? \n",
        "\n",
        "### Симуляция 2\n",
        "\n",
        "Из предыдущих экспериментов мы знаем, что увеличение времени ожидания, не приводит к существенному улучшению результата, поэтому давайте зафиксируем параметры **max_trials=1 и epochs=10** и проведем несколько последовательных симуляций:\n",
        "\n",
        "\n",
        "*   Тест №1. Запуск Autokeras на чистом сигнале.\n",
        "*   Тест №2. Запуск Autokeras на матрице, содержащей смещение сигнала в диапазоне [-1, 1].\n",
        "*   Тест №3. Запуск Autokeras на матрице, содержащей смещение сигнала в диапазоне [-2, 2].\n",
        "*   ... \n",
        "*   Тест №3. Запуск Autokeras на матрице, содержащей смещение сигнала в диапазоне [-10, 10]\n",
        "\n",
        "Обратите внимание, что **seed** в данном случае мы намеренно не фиксируем.\n",
        "\n",
        "\n",
        "\n"
      ]
    },
    {
      "cell_type": "code",
      "metadata": {
        "colab_type": "code",
        "id": "z1aEhu72tMjo",
        "colab": {
          "base_uri": "https://localhost:8080/",
          "height": 496
        },
        "outputId": "16eebfdb-69aa-4be2-da72-de8cf1717e5a"
      },
      "source": [
        "nmse_   = []\n",
        "models  = []\n",
        "y_preds = []\n",
        "ee_     = []\n",
        "\n",
        "for i in np.arange(10):\n",
        "  x_train_del = shift_df(pd.DataFrame(x_train), i)\n",
        "  x_val_del   = shift_df(pd.DataFrame(x_val), i)\n",
        "  \n",
        "  OUTPUT_PATH = '6_AutoML_Regression_pdp_' + str(i)\n",
        "\n",
        "  # Initialize the structured data regressor.\n",
        "  reg = ak.StructuredDataRegressor(\n",
        "      overwrite=True,\n",
        "      max_trials=1,\n",
        "      directory  = OUTPUT_PATH) \n",
        "\n",
        "  reg.fit(x_train_del,\n",
        "        y_train,\n",
        "        # Use your own validation set.\n",
        "        validation_data=(x_val_del, y_val),\n",
        "        epochs=10)\n",
        "  \n",
        "  model = reg.export_model()\n",
        "  models.append(model)\n",
        "\n",
        "  y_ = reg.predict(x_val_del)\n",
        "\n",
        "  y_pred_cmpx = np.vectorize(complex)(y_[:,0]   , y_[:,1])\n",
        "  y_val_cmpx  = np.vectorize(complex)(np.array(y_val)[:,0], np.array(y_val)[:,1])\n",
        "  x_val_cmpx  = np.vectorize(complex)(np.array(x_val)[:,0], np.array(x_val)[:,1])\n",
        "  y_preds.append(y_pred_cmpx)\n",
        "\n",
        "  ex = x_val_cmpx * np.conj(x_val_cmpx)\n",
        "  ee = (y_val_cmpx - y_pred_cmpx) * np.conj(y_val_cmpx - y_pred_cmpx)\n",
        "  nmse = 10 * np.log10(np.mean(ee) / np.mean(ex))\n",
        "  nmse_.append(nmse)\n",
        "  ee_.append(ee)\n",
        "\n",
        "  print(nmse_)"
      ],
      "execution_count": null,
      "outputs": [
        {
          "output_type": "stream",
          "text": [
            "Trial 1 Complete [00h 01m 27s]\n",
            "val_loss: 0.0002734130830504\n",
            "\n",
            "Best val_loss So Far: 0.0002734130830504\n",
            "Total elapsed time: 00h 01m 27s\n",
            "INFO:tensorflow:Oracle triggered exit\n",
            "Epoch 1/10\n",
            "2808/2808 [==============================] - 9s 3ms/step - loss: 0.0011 - mean_squared_error: 0.0011 - val_loss: 0.0011 - val_mean_squared_error: 0.0011\n",
            "Epoch 2/10\n",
            "2808/2808 [==============================] - 9s 3ms/step - loss: 9.8167e-04 - mean_squared_error: 9.8167e-04 - val_loss: 7.3727e-04 - val_mean_squared_error: 7.3727e-04\n",
            "Epoch 3/10\n",
            "2808/2808 [==============================] - 9s 3ms/step - loss: 8.0946e-04 - mean_squared_error: 8.0946e-04 - val_loss: 6.6317e-04 - val_mean_squared_error: 6.6317e-04\n",
            "Epoch 4/10\n",
            "2808/2808 [==============================] - 9s 3ms/step - loss: 7.8819e-04 - mean_squared_error: 7.8819e-04 - val_loss: 7.1853e-04 - val_mean_squared_error: 7.1853e-04\n",
            "Epoch 5/10\n",
            "2808/2808 [==============================] - 9s 3ms/step - loss: 6.8765e-04 - mean_squared_error: 6.8765e-04 - val_loss: 4.7668e-04 - val_mean_squared_error: 4.7668e-04\n",
            "Epoch 6/10\n",
            "2808/2808 [==============================] - 9s 3ms/step - loss: 5.7413e-04 - mean_squared_error: 5.7413e-04 - val_loss: 4.0479e-04 - val_mean_squared_error: 4.0479e-04\n",
            "Epoch 7/10\n",
            "2808/2808 [==============================] - 9s 3ms/step - loss: 5.6228e-04 - mean_squared_error: 5.6228e-04 - val_loss: 4.2228e-04 - val_mean_squared_error: 4.2228e-04\n",
            "Epoch 8/10\n",
            "2808/2808 [==============================] - 9s 3ms/step - loss: 5.2571e-04 - mean_squared_error: 5.2571e-04 - val_loss: 3.5787e-04 - val_mean_squared_error: 3.5787e-04\n",
            "Epoch 9/10\n",
            "2808/2808 [==============================] - 9s 3ms/step - loss: 4.4688e-04 - mean_squared_error: 4.4688e-04 - val_loss: 2.8434e-04 - val_mean_squared_error: 2.8434e-04\n",
            "Epoch 10/10\n",
            "2808/2808 [==============================] - 8s 3ms/step - loss: 3.8932e-04 - mean_squared_error: 3.8932e-04 - val_loss: 2.2244e-04 - val_mean_squared_error: 2.2244e-04\n",
            "[(-22.93000078858705+0j), (-20.745862464354975+0j), (-31.37628552938759+0j), (-17.67228768349366+0j), (-32.659672225863474+0j), (-19.34522272387303+0j), (-20.35513329716894+0j), (-19.824301675143992+0j), (-25.473210689463414+0j), (-21.65162043234411+0j)]\n"
          ],
          "name": "stdout"
        }
      ]
    },
    {
      "cell_type": "code",
      "metadata": {
        "colab_type": "code",
        "id": "CRHChdLFtMnL",
        "colab": {
          "base_uri": "https://localhost:8080/",
          "height": 187
        },
        "outputId": "85d34045-2ab5-4b18-87a3-82fa00090c48"
      },
      "source": [
        "nmse_"
      ],
      "execution_count": null,
      "outputs": [
        {
          "output_type": "execute_result",
          "data": {
            "text/plain": [
              "[(-22.93000078858705+0j),\n",
              " (-20.745862464354975+0j),\n",
              " (-31.37628552938759+0j),\n",
              " (-17.67228768349366+0j),\n",
              " (-32.659672225863474+0j),\n",
              " (-19.34522272387303+0j),\n",
              " (-20.35513329716894+0j),\n",
              " (-19.824301675143992+0j),\n",
              " (-25.473210689463414+0j),\n",
              " (-21.65162043234411+0j)]"
            ]
          },
          "metadata": {
            "tags": []
          },
          "execution_count": 35
        }
      ]
    },
    {
      "cell_type": "markdown",
      "metadata": {
        "colab_type": "text",
        "id": "ftc-inlN6qcq"
      },
      "source": [
        "### Повторный запуск\n",
        "\n",
        "Так как параметр seed мы не фиксировали, то запустим эксперимент еще раз и оценим результаты."
      ]
    },
    {
      "cell_type": "code",
      "metadata": {
        "colab_type": "code",
        "id": "J6z-NBVVtMsM",
        "colab": {
          "base_uri": "https://localhost:8080/",
          "height": 496
        },
        "outputId": "98b2c244-891c-4f8f-9e79-759af4c2a8df"
      },
      "source": [
        "nmse_2   = []\n",
        "models_2  = []\n",
        "y_preds_2 = []\n",
        "ee_2     = []\n",
        "\n",
        "for i in np.arange(10):\n",
        "  x_train_del = shift_df(pd.DataFrame(x_train), i)\n",
        "  x_val_del   = shift_df(pd.DataFrame(x_val), i)\n",
        "  \n",
        "  OUTPUT_PATH = '6_AutoML_Regression_pdp_2' + str(i)\n",
        "\n",
        "  # Initialize the structured data regressor.\n",
        "  reg = ak.StructuredDataRegressor(\n",
        "      overwrite=True,\n",
        "      max_trials=1,\n",
        "      directory  = OUTPUT_PATH,\n",
        "      seed = 123) \n",
        "\n",
        "  reg.fit(x_train_del,\n",
        "        y_train,\n",
        "        # Use your own validation set.\n",
        "        validation_data=(x_val_del, y_val),\n",
        "        epochs=10)\n",
        "  \n",
        "  model = reg.export_model()\n",
        "  models_2.append(model)\n",
        "\n",
        "  y_ = reg.predict(x_val_del)\n",
        "\n",
        "  y_pred_cmpx = np.vectorize(complex)(y_[:,0]   , y_[:,1])\n",
        "  y_val_cmpx  = np.vectorize(complex)(np.array(y_val)[:,0], np.array(y_val)[:,1])\n",
        "  x_val_cmpx  = np.vectorize(complex)(np.array(x_val)[:,0], np.array(x_val)[:,1])\n",
        "  y_preds_2.append(y_pred_cmpx)\n",
        "\n",
        "  ex = x_val_cmpx * np.conj(x_val_cmpx)\n",
        "  ee = (y_val_cmpx - y_pred_cmpx) * np.conj(y_val_cmpx - y_pred_cmpx)\n",
        "  nmse = 10 * np.log10(np.mean(ee) / np.mean(ex))\n",
        "  nmse_2.append(nmse)\n",
        "  ee_2.append(ee)\n",
        "\n",
        "  print(nmse_2)"
      ],
      "execution_count": null,
      "outputs": [
        {
          "output_type": "stream",
          "text": [
            "Trial 1 Complete [00h 00m 55s]\n",
            "val_loss: 2.66437327809399e-05\n",
            "\n",
            "Best val_loss So Far: 2.66437327809399e-05\n",
            "Total elapsed time: 00h 00m 55s\n",
            "INFO:tensorflow:Oracle triggered exit\n",
            "Epoch 1/10\n",
            "2808/2808 [==============================] - 5s 2ms/step - loss: 2.9275e-04 - mean_squared_error: 2.9275e-04 - val_loss: 8.7950e-05 - val_mean_squared_error: 8.7950e-05\n",
            "Epoch 2/10\n",
            "2808/2808 [==============================] - 5s 2ms/step - loss: 5.5051e-05 - mean_squared_error: 5.5051e-05 - val_loss: 7.3351e-05 - val_mean_squared_error: 7.3351e-05\n",
            "Epoch 3/10\n",
            "2808/2808 [==============================] - 5s 2ms/step - loss: 4.4506e-05 - mean_squared_error: 4.4506e-05 - val_loss: 5.5746e-05 - val_mean_squared_error: 5.5746e-05\n",
            "Epoch 4/10\n",
            "2808/2808 [==============================] - 5s 2ms/step - loss: 4.0559e-05 - mean_squared_error: 4.0559e-05 - val_loss: 6.0508e-05 - val_mean_squared_error: 6.0508e-05\n",
            "Epoch 5/10\n",
            "2808/2808 [==============================] - 5s 2ms/step - loss: 3.6998e-05 - mean_squared_error: 3.6998e-05 - val_loss: 6.7673e-05 - val_mean_squared_error: 6.7673e-05\n",
            "Epoch 6/10\n",
            "2808/2808 [==============================] - 5s 2ms/step - loss: 3.5105e-05 - mean_squared_error: 3.5105e-05 - val_loss: 5.2242e-05 - val_mean_squared_error: 5.2242e-05\n",
            "Epoch 7/10\n",
            "2808/2808 [==============================] - 5s 2ms/step - loss: 3.3446e-05 - mean_squared_error: 3.3446e-05 - val_loss: 5.1187e-05 - val_mean_squared_error: 5.1187e-05\n",
            "Epoch 8/10\n",
            "2808/2808 [==============================] - 5s 2ms/step - loss: 3.1941e-05 - mean_squared_error: 3.1941e-05 - val_loss: 4.5500e-05 - val_mean_squared_error: 4.5500e-05\n",
            "Epoch 9/10\n",
            "2808/2808 [==============================] - 5s 2ms/step - loss: 3.1281e-05 - mean_squared_error: 3.1281e-05 - val_loss: 4.3820e-05 - val_mean_squared_error: 4.3820e-05\n",
            "Epoch 10/10\n",
            "2808/2808 [==============================] - 5s 2ms/step - loss: 3.0622e-05 - mean_squared_error: 3.0622e-05 - val_loss: 4.3548e-05 - val_mean_squared_error: 4.3548e-05\n",
            "[(-23.440443412471318+0j), (-29.300411377048107+0j), (-32.12652453661657+0j), (-31.783256372969355+0j), (-31.326661998955938+0j), (-29.534672474353123+0j), (-30.05953065217122+0j), (-28.719063304959427+0j), (-29.551262300077813+0j), (-28.73404962444155+0j)]\n"
          ],
          "name": "stdout"
        }
      ]
    },
    {
      "cell_type": "code",
      "metadata": {
        "colab_type": "code",
        "id": "v7Mn5Th9kEDI",
        "colab": {
          "base_uri": "https://localhost:8080/",
          "height": 187
        },
        "outputId": "80294ca8-72b6-4dba-a4c8-f8e681e4d140"
      },
      "source": [
        "# Результаты первой симуляции\n",
        "nmse_"
      ],
      "execution_count": null,
      "outputs": [
        {
          "output_type": "execute_result",
          "data": {
            "text/plain": [
              "[(-19.616941921465244+0j),\n",
              " (-16.188583666102943+0j),\n",
              " (-21.553395785372885+0j),\n",
              " (-26.707248565557926+0j),\n",
              " (-17.038104437828842+0j),\n",
              " (-24.57686822899167+0j),\n",
              " (-22.47669525235491+0j),\n",
              " (-19.36045523010784+0j),\n",
              " (-17.848394277556086+0j),\n",
              " (-21.52750453368551+0j)]"
            ]
          },
          "metadata": {
            "tags": []
          },
          "execution_count": 32
        }
      ]
    },
    {
      "cell_type": "code",
      "metadata": {
        "colab_type": "code",
        "id": "jmzHNm4QtMu8",
        "colab": {
          "base_uri": "https://localhost:8080/",
          "height": 187
        },
        "outputId": "e25cfe59-ac7f-4036-f54f-3b63da494669"
      },
      "source": [
        "# Результаты второй симуляции\n",
        "nmse_2"
      ],
      "execution_count": null,
      "outputs": [
        {
          "output_type": "execute_result",
          "data": {
            "text/plain": [
              "[(-23.440443412471318+0j),\n",
              " (-29.300411377048107+0j),\n",
              " (-32.12652453661657+0j),\n",
              " (-31.783256372969355+0j),\n",
              " (-31.326661998955938+0j),\n",
              " (-29.534672474353123+0j),\n",
              " (-30.05953065217122+0j),\n",
              " (-28.719063304959427+0j),\n",
              " (-29.551262300077813+0j),\n",
              " (-28.73404962444155+0j)]"
            ]
          },
          "metadata": {
            "tags": []
          },
          "execution_count": 24
        }
      ]
    },
    {
      "cell_type": "code",
      "metadata": {
        "colab_type": "code",
        "id": "T7oUylO_tMxm",
        "colab": {
          "base_uri": "https://localhost:8080/",
          "height": 371
        },
        "outputId": "3725f3fc-91d1-4564-a29f-c415208049e6"
      },
      "source": [
        "fig, ax = plt.subplots()\n",
        "\n",
        "ax.plot(nmse_, label = 'simulation №1')\n",
        "ax.plot(nmse_2, label = 'simulation №2')\n",
        "\n",
        "ax.legend(fontsize = 14)\n",
        "plt.xlabel(\"Range of delays\", fontsize=14)\n",
        "plt.ylabel(\"NMSE\", fontsize=14)\n",
        "\n",
        "fig.set_figheight(5)\n",
        "fig.set_figwidth(8)\n",
        "\n",
        "plt.show()"
      ],
      "execution_count": null,
      "outputs": [
        {
          "output_type": "stream",
          "text": [
            "/usr/local/lib/python3.6/dist-packages/numpy/core/_asarray.py:85: ComplexWarning: Casting complex values to real discards the imaginary part\n",
            "  return array(a, dtype, copy=False, order=order)\n"
          ],
          "name": "stderr"
        },
        {
          "output_type": "display_data",
          "data": {
            "image/png": "[encoded data removed]",
            "text/plain": [
              "<Figure size 576x360 with 1 Axes>"
            ]
          },
          "metadata": {
            "tags": [],
            "needs_background": "light"
          }
        }
      ]
    },
    {
      "cell_type": "markdown",
      "metadata": {
        "colab_type": "text",
        "id": "0DBaPUWRXr6o"
      },
      "source": [
        "К сожалению, из-за большой стахостичности алгоритма, невозможно оценить, какая же память нужна для автоматичекого поиска нейросетевых архитектур, исходя из результатов только 2 экспериментов. Но мы видим, что исходя из полученных результатов, **память [-2;2] и [-4;4]** показали наилучший перформанс. Скорее всего, это не более, чем случайность, но давайте возмем датасет со смещением [-2;2] и запустим на нем более долгую симуляцию."
      ]
    },
    {
      "cell_type": "code",
      "metadata": {
        "colab_type": "code",
        "id": "RqwZ0-UhYnj7",
        "colab": {
          "base_uri": "https://localhost:8080/",
          "height": 277
        },
        "outputId": "934336ed-d7a6-4576-fd0e-3898b68f7ab5"
      },
      "source": [
        "plot_psd([x_val_cmpx, y_val_cmpx, y_val_cmpx - y_preds_2[0]])"
      ],
      "execution_count": null,
      "outputs": [
        {
          "output_type": "display_data",
          "data": {
            "image/png": "[encoded data removed]",
            "text/plain": [
              "<Figure size 432x288 with 1 Axes>"
            ]
          },
          "metadata": {
            "tags": [],
            "needs_background": "light"
          }
        }
      ]
    },
    {
      "cell_type": "code",
      "metadata": {
        "colab_type": "code",
        "id": "i1rnoVl9Yo0O",
        "colab": {
          "base_uri": "https://localhost:8080/",
          "height": 277
        },
        "outputId": "d1fcbeb1-30c4-4294-d99e-93ad177cbc26"
      },
      "source": [
        "ind = np.argmin(nmse_2)\n",
        "plot_psd([x_val_cmpx, y_val_cmpx, y_val_cmpx - y_preds_2[ind]])"
      ],
      "execution_count": null,
      "outputs": [
        {
          "output_type": "display_data",
          "data": {
            "image/png": "[encoded data removed]",
            "text/plain": [
              "<Figure size 432x288 with 1 Axes>"
            ]
          },
          "metadata": {
            "tags": [],
            "needs_background": "light"
          }
        }
      ]
    },
    {
      "cell_type": "markdown",
      "metadata": {
        "colab_type": "text",
        "id": "Hlpm4UXrXfYH"
      },
      "source": [
        "Текст об оптимальном размере датасета и параметров"
      ]
    },
    {
      "cell_type": "markdown",
      "metadata": {
        "colab_type": "text",
        "id": "vIAPcYpoXmvS"
      },
      "source": [
        "### Симуляция 3.\n",
        "\n",
        "Установим параметры поиска моделей **max_trials=7, epochs=30** и передадим датасет со смещением **[-2;2]**."
      ]
    },
    {
      "cell_type": "code",
      "metadata": {
        "colab_type": "code",
        "id": "qYHKZj9JeXn3",
        "colab": {
          "base_uri": "https://localhost:8080/",
          "height": 34
        },
        "outputId": "eacd0445-e886-4431-b913-19d94e80fc8a"
      },
      "source": [
        "ind = 2\n",
        "x_train_del = shift_df(pd.DataFrame(x_train), ind)\n",
        "x_val_del   = shift_df(pd.DataFrame(x_val), ind)\n",
        "x_train_del.shape, y_train.shape, x_val_del.shape, y_val.shape"
      ],
      "execution_count": 14,
      "outputs": [
        {
          "output_type": "execute_result",
          "data": {
            "text/plain": [
              "((89856, 10), (89856, 2), (9984, 10), (9984, 2))"
            ]
          },
          "metadata": {
            "tags": []
          },
          "execution_count": 14
        }
      ]
    },
    {
      "cell_type": "code",
      "metadata": {
        "colab_type": "code",
        "id": "I83X3uq9Yi6z",
        "colab": {}
      },
      "source": [
        "OUTPUT_PATH = '6_AutoML_Regression_pdp_5'\n",
        "\n",
        "# Initialize the structured data regressor.\n",
        "reg_5 = ak.StructuredDataRegressor(\n",
        "    overwrite = True,\n",
        "    max_trials = 7,\n",
        "    directory  = OUTPUT_PATH,\n",
        "    seed = 123)"
      ],
      "execution_count": 15,
      "outputs": []
    },
    {
      "cell_type": "code",
      "metadata": {
        "colab_type": "code",
        "id": "uW_kehnetMzo",
        "colab": {
          "base_uri": "https://localhost:8080/",
          "height": 1000
        },
        "outputId": "c4266c09-b9db-4147-a409-d92b35f81465"
      },
      "source": [
        "reg_5.fit(x_train_del,\n",
        "        y_train,\n",
        "        # Use your own validation set.\n",
        "        validation_data=(x_val_del, y_val),\n",
        "        epochs=30)"
      ],
      "execution_count": 16,
      "outputs": [
        {
          "output_type": "stream",
          "text": [
            "Trial 7 Complete [00h 01m 33s]\n",
            "val_loss: 4.622768028639257e-05\n",
            "\n",
            "Best val_loss So Far: 2.1778343580081128e-05\n",
            "Total elapsed time: 00h 23m 56s\n",
            "INFO:tensorflow:Oracle triggered exit\n",
            "Epoch 1/30\n",
            "2808/2808 [==============================] - 4s 1ms/step - loss: 1.1794e-04 - mean_squared_error: 1.1794e-04 - val_loss: 4.4146e-05 - val_mean_squared_error: 4.4146e-05\n",
            "Epoch 2/30\n",
            "2808/2808 [==============================] - 4s 1ms/step - loss: 4.5596e-05 - mean_squared_error: 4.5596e-05 - val_loss: 3.6985e-05 - val_mean_squared_error: 3.6985e-05\n",
            "Epoch 3/30\n",
            "2808/2808 [==============================] - 4s 1ms/step - loss: 3.8797e-05 - mean_squared_error: 3.8797e-05 - val_loss: 2.9951e-05 - val_mean_squared_error: 2.9951e-05\n",
            "Epoch 4/30\n",
            "2808/2808 [==============================] - 4s 1ms/step - loss: 3.3707e-05 - mean_squared_error: 3.3707e-05 - val_loss: 2.5631e-05 - val_mean_squared_error: 2.5631e-05\n",
            "Epoch 5/30\n",
            "2808/2808 [==============================] - 4s 1ms/step - loss: 3.0996e-05 - mean_squared_error: 3.0996e-05 - val_loss: 2.4510e-05 - val_mean_squared_error: 2.4510e-05\n",
            "Epoch 6/30\n",
            "2808/2808 [==============================] - 4s 1ms/step - loss: 2.9130e-05 - mean_squared_error: 2.9130e-05 - val_loss: 2.2283e-05 - val_mean_squared_error: 2.2283e-05\n",
            "Epoch 7/30\n",
            "2808/2808 [==============================] - 4s 1ms/step - loss: 2.8174e-05 - mean_squared_error: 2.8174e-05 - val_loss: 2.0108e-05 - val_mean_squared_error: 2.0108e-05\n",
            "Epoch 8/30\n",
            "2808/2808 [==============================] - 4s 1ms/step - loss: 2.6446e-05 - mean_squared_error: 2.6446e-05 - val_loss: 2.1238e-05 - val_mean_squared_error: 2.1238e-05\n",
            "Epoch 9/30\n",
            "2808/2808 [==============================] - 4s 1ms/step - loss: 2.6207e-05 - mean_squared_error: 2.6207e-05 - val_loss: 1.9631e-05 - val_mean_squared_error: 1.9631e-05\n",
            "Epoch 10/30\n",
            "2808/2808 [==============================] - 4s 1ms/step - loss: 2.5977e-05 - mean_squared_error: 2.5977e-05 - val_loss: 2.1201e-05 - val_mean_squared_error: 2.1201e-05\n",
            "Epoch 11/30\n",
            "2808/2808 [==============================] - 4s 1ms/step - loss: 2.5271e-05 - mean_squared_error: 2.5271e-05 - val_loss: 2.0392e-05 - val_mean_squared_error: 2.0392e-05\n",
            "Epoch 12/30\n",
            "2808/2808 [==============================] - 4s 1ms/step - loss: 2.4512e-05 - mean_squared_error: 2.4512e-05 - val_loss: 1.8541e-05 - val_mean_squared_error: 1.8541e-05\n",
            "Epoch 13/30\n",
            "2808/2808 [==============================] - 4s 1ms/step - loss: 2.4110e-05 - mean_squared_error: 2.4110e-05 - val_loss: 1.6033e-05 - val_mean_squared_error: 1.6033e-05\n",
            "Epoch 14/30\n",
            "2808/2808 [==============================] - 4s 1ms/step - loss: 2.3298e-05 - mean_squared_error: 2.3298e-05 - val_loss: 1.5387e-05 - val_mean_squared_error: 1.5387e-05\n",
            "Epoch 15/30\n",
            "2808/2808 [==============================] - 4s 1ms/step - loss: 2.2956e-05 - mean_squared_error: 2.2956e-05 - val_loss: 1.6877e-05 - val_mean_squared_error: 1.6877e-05\n",
            "Epoch 16/30\n",
            "2808/2808 [==============================] - 4s 1ms/step - loss: 2.2889e-05 - mean_squared_error: 2.2889e-05 - val_loss: 1.5531e-05 - val_mean_squared_error: 1.5531e-05\n",
            "Epoch 17/30\n",
            "2808/2808 [==============================] - 4s 1ms/step - loss: 2.2354e-05 - mean_squared_error: 2.2354e-05 - val_loss: 1.6075e-05 - val_mean_squared_error: 1.6075e-05\n",
            "Epoch 18/30\n",
            "2808/2808 [==============================] - 4s 1ms/step - loss: 2.2426e-05 - mean_squared_error: 2.2426e-05 - val_loss: 1.8259e-05 - val_mean_squared_error: 1.8259e-05\n",
            "Epoch 19/30\n",
            "2808/2808 [==============================] - 4s 1ms/step - loss: 2.1945e-05 - mean_squared_error: 2.1945e-05 - val_loss: 1.7776e-05 - val_mean_squared_error: 1.7776e-05\n",
            "Epoch 20/30\n",
            "2808/2808 [==============================] - 4s 1ms/step - loss: 2.1747e-05 - mean_squared_error: 2.1747e-05 - val_loss: 1.6447e-05 - val_mean_squared_error: 1.6447e-05\n",
            "Epoch 21/30\n",
            "2808/2808 [==============================] - 4s 1ms/step - loss: 2.1543e-05 - mean_squared_error: 2.1543e-05 - val_loss: 1.6713e-05 - val_mean_squared_error: 1.6713e-05\n",
            "Epoch 22/30\n",
            "2808/2808 [==============================] - 4s 1ms/step - loss: 2.1792e-05 - mean_squared_error: 2.1792e-05 - val_loss: 1.6289e-05 - val_mean_squared_error: 1.6289e-05\n",
            "Epoch 23/30\n",
            "2808/2808 [==============================] - 4s 1ms/step - loss: 2.1002e-05 - mean_squared_error: 2.1002e-05 - val_loss: 1.6035e-05 - val_mean_squared_error: 1.6035e-05\n",
            "Epoch 24/30\n",
            "2808/2808 [==============================] - 4s 1ms/step - loss: 2.0944e-05 - mean_squared_error: 2.0944e-05 - val_loss: 1.6807e-05 - val_mean_squared_error: 1.6807e-05\n",
            "Epoch 25/30\n",
            "2808/2808 [==============================] - 4s 1ms/step - loss: 2.0834e-05 - mean_squared_error: 2.0834e-05 - val_loss: 1.5892e-05 - val_mean_squared_error: 1.5892e-05\n",
            "Epoch 26/30\n",
            "2808/2808 [==============================] - 4s 1ms/step - loss: 2.0329e-05 - mean_squared_error: 2.0329e-05 - val_loss: 1.6557e-05 - val_mean_squared_error: 1.6557e-05\n",
            "Epoch 27/30\n",
            "2808/2808 [==============================] - 4s 1ms/step - loss: 2.0246e-05 - mean_squared_error: 2.0246e-05 - val_loss: 1.5509e-05 - val_mean_squared_error: 1.5509e-05\n",
            "Epoch 28/30\n",
            "2808/2808 [==============================] - 4s 1ms/step - loss: 2.0184e-05 - mean_squared_error: 2.0184e-05 - val_loss: 1.6058e-05 - val_mean_squared_error: 1.6058e-05\n",
            "Epoch 29/30\n",
            "2808/2808 [==============================] - 4s 1ms/step - loss: 2.0248e-05 - mean_squared_error: 2.0248e-05 - val_loss: 1.5742e-05 - val_mean_squared_error: 1.5742e-05\n",
            "Epoch 30/30\n",
            "2808/2808 [==============================] - 4s 1ms/step - loss: 2.0041e-05 - mean_squared_error: 2.0041e-05 - val_loss: 1.5389e-05 - val_mean_squared_error: 1.5389e-05\n"
          ],
          "name": "stdout"
        }
      ]
    },
    {
      "cell_type": "code",
      "metadata": {
        "colab_type": "code",
        "id": "fR1dXNxYtM4G",
        "colab": {
          "base_uri": "https://localhost:8080/",
          "height": 323
        },
        "outputId": "82c28c2d-2c12-417e-e05c-a8ce4765f798"
      },
      "source": [
        "model_5 = reg_5.export_model()\n",
        "model_5.summary()"
      ],
      "execution_count": 17,
      "outputs": [
        {
          "output_type": "stream",
          "text": [
            "Model: \"functional_1\"\n",
            "_________________________________________________________________\n",
            "Layer (type)                 Output Shape              Param #   \n",
            "=================================================================\n",
            "input_1 (InputLayer)         [(None, 10)]              0         \n",
            "_________________________________________________________________\n",
            "multi_category_encoding (Mul (None, 10)                0         \n",
            "_________________________________________________________________\n",
            "dense (Dense)                (None, 256)               2816      \n",
            "_________________________________________________________________\n",
            "re_lu (ReLU)                 (None, 256)               0         \n",
            "_________________________________________________________________\n",
            "regression_head_1 (Dense)    (None, 2)                 514       \n",
            "=================================================================\n",
            "Total params: 3,330\n",
            "Trainable params: 3,330\n",
            "Non-trainable params: 0\n",
            "_________________________________________________________________\n"
          ],
          "name": "stdout"
        }
      ]
    },
    {
      "cell_type": "code",
      "metadata": {
        "colab_type": "code",
        "id": "do1OMqCJtM63",
        "colab": {}
      },
      "source": [
        "y_ = reg_5.predict(x_val_del)"
      ],
      "execution_count": 18,
      "outputs": []
    },
    {
      "cell_type": "code",
      "metadata": {
        "colab_type": "code",
        "id": "R1e11oK_tM-C",
        "colab": {}
      },
      "source": [
        "y_pred_cmpx = np.vectorize(complex)(y_[:,0]   , y_[:,1])\n",
        "y_val_cmpx  = np.vectorize(complex)(np.array(y_val)[:,0], np.array(y_val)[:,1])\n",
        "x_val_cmpx  = np.vectorize(complex)(np.array(x_val)[:,0], np.array(x_val)[:,1])"
      ],
      "execution_count": 19,
      "outputs": []
    },
    {
      "cell_type": "code",
      "metadata": {
        "colab_type": "code",
        "id": "Jx7W0PTWtNAB",
        "colab": {
          "base_uri": "https://localhost:8080/",
          "height": 34
        },
        "outputId": "91f90625-e975-496a-abb2-5e89ce13b1c6"
      },
      "source": [
        "ex = x_val_cmpx * np.conj(x_val_cmpx)\n",
        "ee = (y_val_cmpx - y_pred_cmpx) * np.conj(y_val_cmpx - y_pred_cmpx)\n",
        "nmse = 10 * np.log10(np.mean(ee) / np.mean(ex))\n",
        "nmse"
      ],
      "execution_count": 20,
      "outputs": [
        {
          "output_type": "execute_result",
          "data": {
            "text/plain": [
              "(-33.25164758242147+0j)"
            ]
          },
          "metadata": {
            "tags": []
          },
          "execution_count": 20
        }
      ]
    },
    {
      "cell_type": "code",
      "metadata": {
        "colab_type": "code",
        "id": "55llJ2MftNDW",
        "colab": {
          "base_uri": "https://localhost:8080/",
          "height": 455
        },
        "outputId": "f3055188-dd0c-4434-e701-14a498c61ecd"
      },
      "source": [
        "plt.plot(y_val_cmpx * np.conj(y_val_cmpx))\n",
        "plt.plot(ee)"
      ],
      "execution_count": 21,
      "outputs": [
        {
          "output_type": "stream",
          "text": [
            "/usr/local/lib/python3.6/dist-packages/numpy/core/_asarray.py:85: ComplexWarning: Casting complex values to real discards the imaginary part\n",
            "  return array(a, dtype, copy=False, order=order)\n",
            "/usr/local/lib/python3.6/dist-packages/numpy/core/_asarray.py:85: ComplexWarning: Casting complex values to real discards the imaginary part\n",
            "  return array(a, dtype, copy=False, order=order)\n"
          ],
          "name": "stderr"
        },
        {
          "output_type": "execute_result",
          "data": {
            "text/plain": [
              "[<matplotlib.lines.Line2D at 0x7f19e448c5f8>]"
            ]
          },
          "metadata": {
            "tags": []
          },
          "execution_count": 21
        },
        {
          "output_type": "stream",
          "text": [
            "WARNING:tensorflow:Unresolved object in checkpoint: (root).optimizer.iter\n",
            "WARNING:tensorflow:Unresolved object in checkpoint: (root).optimizer.beta_1\n",
            "WARNING:tensorflow:Unresolved object in checkpoint: (root).optimizer.beta_2\n",
            "WARNING:tensorflow:Unresolved object in checkpoint: (root).optimizer.decay\n",
            "WARNING:tensorflow:Unresolved object in checkpoint: (root).optimizer.learning_rate\n",
            "WARNING:tensorflow:A checkpoint was restored (e.g. tf.train.Checkpoint.restore or tf.keras.Model.load_weights) but not all checkpointed values were used. See above for specific issues. Use expect_partial() on the load status object, e.g. tf.train.Checkpoint.restore(...).expect_partial(), to silence these warnings, or use assert_consumed() to make the check explicit. See https://www.tensorflow.org/guide/checkpoint#loading_mechanics for details.\n"
          ],
          "name": "stdout"
        },
        {
          "output_type": "display_data",
          "data": {
            "image/png": "[encoded data removed]",
            "text/plain": [
              "<Figure size 432x288 with 1 Axes>"
            ]
          },
          "metadata": {
            "tags": [],
            "needs_background": "light"
          }
        }
      ]
    },
    {
      "cell_type": "code",
      "metadata": {
        "colab_type": "code",
        "id": "Zh0XJ5ABtNFp",
        "colab": {
          "base_uri": "https://localhost:8080/",
          "height": 277
        },
        "outputId": "3223262e-59c1-47d7-a9c7-47ba2211b11c"
      },
      "source": [
        "from pyplot_lib.plot_lib import plot_psd\n",
        "plot_psd([x_val_cmpx, y_val_cmpx, (y_val_cmpx - y_pred_cmpx)])"
      ],
      "execution_count": 22,
      "outputs": [
        {
          "output_type": "display_data",
          "data": {
            "image/png": "[encoded data removed]",
            "text/plain": [
              "<Figure size 432x288 with 1 Axes>"
            ]
          },
          "metadata": {
            "tags": [],
            "needs_background": "light"
          }
        }
      ]
    },
    {
      "cell_type": "markdown",
      "metadata": {
        "colab_type": "text",
        "id": "-G5SZHqEZxqq"
      },
      "source": [
        "### Симуляция 4\n",
        "\n",
        "Теперь давайте увеличим диапазон поиска памяти модели от [-20;20], так как для некоторых сигналов это может иметь смысл. Увеличим количество проводимых симуляций до 10, чтобы иметь возможность оценить дисперсию и мат. ожидание полученных результатов."
      ]
    },
    {
      "cell_type": "code",
      "metadata": {
        "colab_type": "code",
        "id": "hT_Kbx_3fu9m",
        "colab": {}
      },
      "source": [
        "import collections"
      ],
      "execution_count": null,
      "outputs": []
    },
    {
      "cell_type": "code",
      "metadata": {
        "colab_type": "code",
        "id": "jcNoDHPWaxUQ",
        "colab": {
          "base_uri": "https://localhost:8080/",
          "height": 547
        },
        "outputId": "b89ee285-ff21-4a4a-cdaf-f37b04e6ef71"
      },
      "source": [
        "%%time\n",
        "\n",
        "numSimulations = 11\n",
        "DelayRange     = 21\n",
        "\n",
        "nmse_dict    = collections.defaultdict(list)\n",
        "models_dict  = collections.defaultdict(list)\n",
        "y_preds_dict = collections.defaultdict(list)\n",
        "ee_dict      = collections.defaultdict(list)\n",
        "\n",
        "for j in np.arange(numSimulations):\n",
        "  nmse_3    = []\n",
        "  models_3  = []\n",
        "  y_preds_3 = []\n",
        "  ee_3      = []\n",
        "\n",
        "  for i in np.arange(DelayRange):\n",
        "    print('=============== Simulation #%d ===============' % j)\n",
        "    print()\n",
        "    print('#---------------Current delays range [-%d, %d]---------------#' % (-i, i))\n",
        "    x_train_del = shift_df(pd.DataFrame(x_train), i)\n",
        "    x_val_del   = shift_df(pd.DataFrame(x_val), i)\n",
        "    \n",
        "    OUTPUT_PATH = '6_AutoML_Regression_pdp_3' + str(i)\n",
        "\n",
        "    # Initialize the structured data regressor.\n",
        "    reg = ak.StructuredDataRegressor(\n",
        "        overwrite=True,\n",
        "        max_trials=1,\n",
        "        directory  = OUTPUT_PATH) \n",
        "\n",
        "    reg.fit(x_train_del,\n",
        "          y_train,\n",
        "          # Use your own validation set.\n",
        "          validation_data=(x_val_del, y_val),\n",
        "          epochs=10)\n",
        "    \n",
        "    model = reg.export_model()\n",
        "    models_3.append(model)\n",
        "\n",
        "    y_ = reg.predict(x_val_del)\n",
        "\n",
        "    y_pred_cmpx = np.vectorize(complex)(y_[:,0]   , y_[:,1])\n",
        "    y_val_cmpx  = np.vectorize(complex)(np.array(y_val)[:,0], np.array(y_val)[:,1])\n",
        "    x_val_cmpx  = np.vectorize(complex)(np.array(x_val)[:,0], np.array(x_val)[:,1])\n",
        "    y_preds_3.append(y_pred_cmpx)\n",
        "\n",
        "    ex = x_val_cmpx * np.conj(x_val_cmpx)\n",
        "    ee = (y_val_cmpx - y_pred_cmpx) * np.conj(y_val_cmpx - y_pred_cmpx)\n",
        "    nmse = 10 * np.log10(np.mean(ee) / np.mean(ex))\n",
        "    nmse_3.append(nmse)\n",
        "    ee_3.append(ee)\n",
        "\n",
        "    print('Results of current simulation')\n",
        "    print(nmse_3)\n",
        "\n",
        "  nmse_dict[j].append(nmse_3)\n",
        "  models_dict[j].append(models_3)\n",
        "  y_preds_dict[j].append(y_preds_3)\n",
        "  ee_dict[j].append(ee_3)\n"
      ],
      "execution_count": null,
      "outputs": [
        {
          "output_type": "stream",
          "text": [
            "Trial 1 Complete [00h 01m 08s]\n",
            "val_loss: 0.0017879890510812402\n",
            "\n",
            "Best val_loss So Far: 0.0017879890510812402\n",
            "Total elapsed time: 00h 01m 08s\n",
            "INFO:tensorflow:Oracle triggered exit\n",
            "Epoch 1/10\n",
            "2808/2808 [==============================] - 7s 2ms/step - loss: 0.0018 - mean_squared_error: 0.0018 - val_loss: 0.0017 - val_mean_squared_error: 0.0017\n",
            "Epoch 2/10\n",
            "2808/2808 [==============================] - 6s 2ms/step - loss: 0.0017 - mean_squared_error: 0.0017 - val_loss: 0.0017 - val_mean_squared_error: 0.0017\n",
            "Epoch 3/10\n",
            "2808/2808 [==============================] - 7s 2ms/step - loss: 0.0017 - mean_squared_error: 0.0017 - val_loss: 0.0017 - val_mean_squared_error: 0.0017\n",
            "Epoch 4/10\n",
            "2808/2808 [==============================] - 7s 2ms/step - loss: 0.0017 - mean_squared_error: 0.0017 - val_loss: 0.0017 - val_mean_squared_error: 0.0017\n",
            "Epoch 5/10\n",
            "2808/2808 [==============================] - 7s 2ms/step - loss: 0.0017 - mean_squared_error: 0.0017 - val_loss: 0.0017 - val_mean_squared_error: 0.0017\n",
            "Epoch 6/10\n",
            "2808/2808 [==============================] - 7s 2ms/step - loss: 0.0017 - mean_squared_error: 0.0017 - val_loss: 0.0017 - val_mean_squared_error: 0.0017\n",
            "Epoch 7/10\n",
            "2808/2808 [==============================] - 7s 3ms/step - loss: 0.0017 - mean_squared_error: 0.0017 - val_loss: 0.0017 - val_mean_squared_error: 0.0017\n",
            "Epoch 8/10\n",
            "2808/2808 [==============================] - 7s 2ms/step - loss: 0.0017 - mean_squared_error: 0.0017 - val_loss: 0.0017 - val_mean_squared_error: 0.0017\n",
            "Epoch 9/10\n",
            "2808/2808 [==============================] - 7s 2ms/step - loss: 0.0017 - mean_squared_error: 0.0017 - val_loss: 0.0017 - val_mean_squared_error: 0.0017\n",
            "Epoch 10/10\n",
            "2808/2808 [==============================] - 7s 2ms/step - loss: 0.0017 - mean_squared_error: 0.0017 - val_loss: 0.0017 - val_mean_squared_error: 0.0017\n",
            "Results of current simulation\n",
            "[(-17.86161422888902+0j), (-20.74322794670423+0j), (-24.662682403436257+0j), (-23.563042664196804+0j), (-19.725119320256482+0j), (-32.97940797989029+0j), (-30.76291711530729+0j), (-25.976222870806048+0j), (-29.59156299415728+0j), (-17.325461113422783+0j), (-18.137885183461197+0j), (-19.591742378050533+0j), (-18.68804683302969+0j), (-18.862532702046245+0j), (-23.31632166176321+0j), (-24.492805982938236+0j), (-15.726619722776627+0j), (-16.83390266212483+0j), (-18.58927859032987+0j), (-16.32835691308398+0j), (-12.749590740125804+0j)]\n",
            "CPU times: user 14h 57min 12s, sys: 45min 18s, total: 15h 42min 31s\n",
            "Wall time: 10h 55min 1s\n"
          ],
          "name": "stdout"
        }
      ]
    },
    {
      "cell_type": "code",
      "metadata": {
        "colab_type": "code",
        "id": "xSv3pvmuaxJ8",
        "colab": {
          "base_uri": "https://localhost:8080/",
          "height": 1000
        },
        "outputId": "decedf93-4dcc-4192-999f-2e9ba9d01038"
      },
      "source": [
        "nmse_dict"
      ],
      "execution_count": null,
      "outputs": [
        {
          "output_type": "execute_result",
          "data": {
            "text/plain": [
              "defaultdict(list,\n",
              "            {0: [[(-16.929610941679087+0j),\n",
              "               (-19.046400129108044+0j),\n",
              "               (-30.174391615718218+0j),\n",
              "               (-19.750187614061726+0j),\n",
              "               (-21.14403935976251+0j),\n",
              "               (-22.403114520347845+0j),\n",
              "               (-22.03989495116112+0j),\n",
              "               (-23.61032739936117+0j),\n",
              "               (-18.722656811462365+0j),\n",
              "               (-12.749590740125804+0j),\n",
              "               (-18.358568016147384+0j),\n",
              "               (-18.858607820732306+0j),\n",
              "               (-18.445379447994533+0j),\n",
              "               (-30.11194954429117+0j),\n",
              "               (-15.50092665715092+0j),\n",
              "               (-16.081397020424472+0j),\n",
              "               (-28.92016722036875+0j),\n",
              "               (-19.476528487908723+0j),\n",
              "               (-21.322252932838648+0j),\n",
              "               (-24.343637420457334+0j),\n",
              "               (-19.818819513846528+0j)]],\n",
              "             1: [[(-17.549462114214766+0j),\n",
              "               (-20.997847976052284+0j),\n",
              "               (-21.951037510917807+0j),\n",
              "               (-33.474203400416044+0j),\n",
              "               (-15.293771972331673+0j),\n",
              "               (-24.425324255430965+0j),\n",
              "               (-28.553854480265457+0j),\n",
              "               (-29.324441299481087+0j),\n",
              "               (-18.962328829907502+0j),\n",
              "               (-22.70768289445575+0j),\n",
              "               (-17.11576966950939+0j),\n",
              "               (-24.978758611255323+0j),\n",
              "               (-27.224181036758104+0j),\n",
              "               (-19.228762294026673+0j),\n",
              "               (-17.038152171019522+0j),\n",
              "               (-16.96266217800727+0j),\n",
              "               (-27.95182977602002+0j),\n",
              "               (-19.085751224545216+0j),\n",
              "               (-14.926448038039407+0j),\n",
              "               (-18.730302722996342+0j),\n",
              "               (-29.63987876751161+0j)]],\n",
              "             2: [[(-20.65716269030262+0j),\n",
              "               (-27.090577951285333+0j),\n",
              "               (-20.58859071968344+0j),\n",
              "               (-30.296735286060787+0j),\n",
              "               (-24.885054673084497+0j),\n",
              "               (-33.47496530939466+0j),\n",
              "               (-21.85271004970058+0j),\n",
              "               (-16.726325896369666+0j),\n",
              "               (-18.03516479451341+0j),\n",
              "               (-21.295032622667378+0j),\n",
              "               (-17.071724853966476+0j),\n",
              "               (-17.443534704220713+0j),\n",
              "               (-20.17588514870824+0j),\n",
              "               (-30.80163471156193+0j),\n",
              "               (-21.028785354059323+0j),\n",
              "               (-18.472728902889834+0j),\n",
              "               (-18.981849249140105+0j),\n",
              "               (-28.036297442117927+0j),\n",
              "               (-30.126504749145163+0j),\n",
              "               (-21.110814147601697+0j),\n",
              "               (-17.66080273378182+0j)]],\n",
              "             3: [[(-23.3074650206619+0j),\n",
              "               (-11.930117899861036+0j),\n",
              "               (-18.906912198820336+0j),\n",
              "               (-31.032445409154352+0j),\n",
              "               (-20.833227296024724+0j),\n",
              "               (-29.955389200284195+0j),\n",
              "               (-19.334292428097037+0j),\n",
              "               (-23.486058140426188+0j),\n",
              "               (-20.3614643339324+0j),\n",
              "               (-29.462784733974775+0j),\n",
              "               (-6.826463648080908+0j),\n",
              "               (-20.30162229689481+0j),\n",
              "               (-18.826446708575467+0j),\n",
              "               (-20.587530828308843+0j),\n",
              "               (-18.071353528761176+0j),\n",
              "               (-11.266871795911067+0j),\n",
              "               (-30.864889606944107+0j),\n",
              "               (-19.588414403261698+0j),\n",
              "               (-31.87051312141969+0j),\n",
              "               (-18.34929596018517+0j),\n",
              "               (-19.527294756085716+0j)]],\n",
              "             4: [[(-20.76071188393934+0j),\n",
              "               (-12.749590740125804+0j),\n",
              "               (-18.99253652241373+0j),\n",
              "               (-31.95809285159526+0j),\n",
              "               (-19.486126003682024+0j),\n",
              "               (-16.584700442763744+0j),\n",
              "               (-20.653013931029914+0j),\n",
              "               (-19.70626859294963+0j),\n",
              "               (-18.582625983730495+0j),\n",
              "               (-21.545003130682005+0j),\n",
              "               (-19.610961387414697+0j),\n",
              "               (-20.853823911689304+0j),\n",
              "               (-20.234397510504696+0j),\n",
              "               (-19.059177872079427+0j),\n",
              "               (-21.115748590793146+0j),\n",
              "               (-20.65617877964412+0j),\n",
              "               (-18.17927729547314+0j),\n",
              "               (-19.40226969345921+0j),\n",
              "               (-17.843118115147327+0j),\n",
              "               (-20.78766788110739+0j),\n",
              "               (-27.994959412143807+0j)]],\n",
              "             5: [[(-19.472526749792053+0j),\n",
              "               (-22.07492091532899+0j),\n",
              "               (-24.247479512758186+0j),\n",
              "               (-18.910843378768757+0j),\n",
              "               (-18.067355525974886+0j),\n",
              "               (-26.845163667313045+0j),\n",
              "               (-21.06481887295343+0j),\n",
              "               (-19.558398315568397+0j),\n",
              "               (-27.066326659735715+0j),\n",
              "               (-15.424004217742446+0j),\n",
              "               (-30.638302274967973+0j),\n",
              "               (-17.012759243002932+0j),\n",
              "               (-16.046946295347823+0j),\n",
              "               (-22.25623879628769+0j),\n",
              "               (-19.453900322785064+0j),\n",
              "               (-29.462230619951946+0j),\n",
              "               (-19.10577460718268+0j),\n",
              "               (-20.242018610516812+0j),\n",
              "               (-19.315081857215397+0j),\n",
              "               (-20.52814745325758+0j),\n",
              "               (-25.72620126733093+0j)]],\n",
              "             6: [[(-23.471556854380637+0j),\n",
              "               (-20.804738767140552+0j),\n",
              "               (-20.348261843255116+0j),\n",
              "               (-20.831705823344336+0j),\n",
              "               (-24.87934608954722+0j),\n",
              "               (-20.999309008596537+0j),\n",
              "               (-15.492919170828275+0j),\n",
              "               (-25.74826462676419+0j),\n",
              "               (-29.55817266108398+0j),\n",
              "               (-30.07055887015+0j),\n",
              "               (-25.735211836891242+0j),\n",
              "               (-17.585071545560563+0j),\n",
              "               (-11.344506603423682+0j),\n",
              "               (-16.444272670693934+0j),\n",
              "               (-30.54820973037632+0j),\n",
              "               (-20.06758987249977+0j),\n",
              "               (-16.591980796638552+0j),\n",
              "               (-25.9444265152376+0j),\n",
              "               (-28.681166644939825+0j),\n",
              "               (-18.605373014935388+0j),\n",
              "               (-20.131859248110338+0j)]],\n",
              "             7: [[(-20.172404195390364+0j),\n",
              "               (-27.918267514131863+0j),\n",
              "               (-30.80576722338065+0j),\n",
              "               (-20.644263882283184+0j),\n",
              "               (-18.379969814860818+0j),\n",
              "               (-18.715266642488366+0j),\n",
              "               (-28.985326116813518+0j),\n",
              "               (-33.61518920727728+0j),\n",
              "               (-21.067701446389954+0j),\n",
              "               (-19.592783252308678+0j),\n",
              "               (-17.847882257299826+0j),\n",
              "               (-30.001195258245843+0j),\n",
              "               (-18.493907914307005+0j),\n",
              "               (-17.192742619707246+0j),\n",
              "               (-19.326786020963617+0j),\n",
              "               (-14.207871316058556+0j),\n",
              "               (-18.74045339691374+0j),\n",
              "               (-20.02012252654263+0j),\n",
              "               (-8.218913685057705+0j),\n",
              "               (-19.8347158738765+0j),\n",
              "               (-21.765028872842702+0j)]],\n",
              "             8: [[(-21.569905434384626+0j),\n",
              "               (-19.80723559214937+0j),\n",
              "               (-8.863029175131357+0j),\n",
              "               (-17.639562299265407+0j),\n",
              "               (-18.825965851738736+0j),\n",
              "               (-8.033636066395859+0j),\n",
              "               (-20.769768194376116+0j),\n",
              "               (-19.238468391878477+0j),\n",
              "               (-19.226044571614796+0j),\n",
              "               (-18.68490536363102+0j),\n",
              "               (-2.5475087807526977+0j),\n",
              "               (-20.614862414309535+0j),\n",
              "               (-21.58222912553439+0j),\n",
              "               (-25.837429193397963+0j),\n",
              "               (-19.60943715056382+0j),\n",
              "               (-20.85117981119931+0j),\n",
              "               (-20.9692306462684+0j),\n",
              "               (-30.48082800040696+0j),\n",
              "               (-19.309482131802422+0j),\n",
              "               (-16.598474362972535+0j),\n",
              "               (-19.417756652821975+0j)]],\n",
              "             9: [[(-18.72315052526745+0j),\n",
              "               (-21.557363799631695+0j),\n",
              "               (-30.63373462937352+0j),\n",
              "               (-18.84103229891213+0j),\n",
              "               (-33.074494977711545+0j),\n",
              "               (-19.01349958874275+0j),\n",
              "               (-27.112275046238867+0j),\n",
              "               (-19.373805070756962+0j),\n",
              "               (-21.059924798922275+0j),\n",
              "               (-23.311429879937823+0j),\n",
              "               (-26.299586810662+0j),\n",
              "               (-16.299450870300806+0j),\n",
              "               (-24.614319583907065+0j),\n",
              "               (-5.477142470841317+0j),\n",
              "               (-19.656316769822375+0j),\n",
              "               (-18.80028019815392+0j),\n",
              "               (-21.198164594155323+0j),\n",
              "               (-18.736325548494086+0j),\n",
              "               (-19.511327852587467+0j),\n",
              "               (-18.18644895231222+0j),\n",
              "               (-13.933158703234769+0j)]],\n",
              "             10: [[(-17.86161422888902+0j),\n",
              "               (-20.74322794670423+0j),\n",
              "               (-24.662682403436257+0j),\n",
              "               (-23.563042664196804+0j),\n",
              "               (-19.725119320256482+0j),\n",
              "               (-32.97940797989029+0j),\n",
              "               (-30.76291711530729+0j),\n",
              "               (-25.976222870806048+0j),\n",
              "               (-29.59156299415728+0j),\n",
              "               (-17.325461113422783+0j),\n",
              "               (-18.137885183461197+0j),\n",
              "               (-19.591742378050533+0j),\n",
              "               (-18.68804683302969+0j),\n",
              "               (-18.862532702046245+0j),\n",
              "               (-23.31632166176321+0j),\n",
              "               (-24.492805982938236+0j),\n",
              "               (-15.726619722776627+0j),\n",
              "               (-16.83390266212483+0j),\n",
              "               (-18.58927859032987+0j),\n",
              "               (-16.32835691308398+0j),\n",
              "               (-12.749590740125804+0j)]]})"
            ]
          },
          "metadata": {
            "tags": []
          },
          "execution_count": 15
        }
      ]
    },
    {
      "cell_type": "code",
      "metadata": {
        "id": "oW5LuZnTK_8P",
        "colab_type": "code",
        "colab": {}
      },
      "source": [
        "nmse_dict_1 = collections.defaultdict(list,\n",
        "            {0: [[(-16.929610941679087+0j),\n",
        "               (-19.046400129108044+0j),\n",
        "               (-30.174391615718218+0j),\n",
        "               (-19.750187614061726+0j),\n",
        "               (-21.14403935976251+0j),\n",
        "               (-22.403114520347845+0j),\n",
        "               (-22.03989495116112+0j),\n",
        "               (-23.61032739936117+0j),\n",
        "               (-18.722656811462365+0j),\n",
        "               (-12.749590740125804+0j),\n",
        "               (-18.358568016147384+0j),\n",
        "               (-18.858607820732306+0j),\n",
        "               (-18.445379447994533+0j),\n",
        "               (-30.11194954429117+0j),\n",
        "               (-15.50092665715092+0j),\n",
        "               (-16.081397020424472+0j),\n",
        "               (-28.92016722036875+0j),\n",
        "               (-19.476528487908723+0j),\n",
        "               (-21.322252932838648+0j),\n",
        "               (-24.343637420457334+0j),\n",
        "               (-19.818819513846528+0j)]],\n",
        "             1: [[(-17.549462114214766+0j),\n",
        "               (-20.997847976052284+0j),\n",
        "               (-21.951037510917807+0j),\n",
        "               (-33.474203400416044+0j),\n",
        "               (-15.293771972331673+0j),\n",
        "               (-24.425324255430965+0j),\n",
        "               (-28.553854480265457+0j),\n",
        "               (-29.324441299481087+0j),\n",
        "               (-18.962328829907502+0j),\n",
        "               (-22.70768289445575+0j),\n",
        "               (-17.11576966950939+0j),\n",
        "               (-24.978758611255323+0j),\n",
        "               (-27.224181036758104+0j),\n",
        "               (-19.228762294026673+0j),\n",
        "               (-17.038152171019522+0j),\n",
        "               (-16.96266217800727+0j),\n",
        "               (-27.95182977602002+0j),\n",
        "               (-19.085751224545216+0j),\n",
        "               (-14.926448038039407+0j),\n",
        "               (-18.730302722996342+0j),\n",
        "               (-29.63987876751161+0j)]],\n",
        "             2: [[(-20.65716269030262+0j),\n",
        "               (-27.090577951285333+0j),\n",
        "               (-20.58859071968344+0j),\n",
        "               (-30.296735286060787+0j),\n",
        "               (-24.885054673084497+0j),\n",
        "               (-33.47496530939466+0j),\n",
        "               (-21.85271004970058+0j),\n",
        "               (-16.726325896369666+0j),\n",
        "               (-18.03516479451341+0j),\n",
        "               (-21.295032622667378+0j),\n",
        "               (-17.071724853966476+0j),\n",
        "               (-17.443534704220713+0j),\n",
        "               (-20.17588514870824+0j),\n",
        "               (-30.80163471156193+0j),\n",
        "               (-21.028785354059323+0j),\n",
        "               (-18.472728902889834+0j),\n",
        "               (-18.981849249140105+0j),\n",
        "               (-28.036297442117927+0j),\n",
        "               (-30.126504749145163+0j),\n",
        "               (-21.110814147601697+0j),\n",
        "               (-17.66080273378182+0j)]],\n",
        "             3: [[(-23.3074650206619+0j),\n",
        "               (-11.930117899861036+0j),\n",
        "               (-18.906912198820336+0j),\n",
        "               (-31.032445409154352+0j),\n",
        "               (-20.833227296024724+0j),\n",
        "               (-29.955389200284195+0j),\n",
        "               (-19.334292428097037+0j),\n",
        "               (-23.486058140426188+0j),\n",
        "               (-20.3614643339324+0j),\n",
        "               (-29.462784733974775+0j),\n",
        "               (-6.826463648080908+0j),\n",
        "               (-20.30162229689481+0j),\n",
        "               (-18.826446708575467+0j),\n",
        "               (-20.587530828308843+0j),\n",
        "               (-18.071353528761176+0j),\n",
        "               (-11.266871795911067+0j),\n",
        "               (-30.864889606944107+0j),\n",
        "               (-19.588414403261698+0j),\n",
        "               (-31.87051312141969+0j),\n",
        "               (-18.34929596018517+0j),\n",
        "               (-19.527294756085716+0j)]],\n",
        "             4: [[(-20.76071188393934+0j),\n",
        "               (-12.749590740125804+0j),\n",
        "               (-18.99253652241373+0j),\n",
        "               (-31.95809285159526+0j),\n",
        "               (-19.486126003682024+0j),\n",
        "               (-16.584700442763744+0j),\n",
        "               (-20.653013931029914+0j),\n",
        "               (-19.70626859294963+0j),\n",
        "               (-18.582625983730495+0j),\n",
        "               (-21.545003130682005+0j),\n",
        "               (-19.610961387414697+0j),\n",
        "               (-20.853823911689304+0j),\n",
        "               (-20.234397510504696+0j),\n",
        "               (-19.059177872079427+0j),\n",
        "               (-21.115748590793146+0j),\n",
        "               (-20.65617877964412+0j),\n",
        "               (-18.17927729547314+0j),\n",
        "               (-19.40226969345921+0j),\n",
        "               (-17.843118115147327+0j),\n",
        "               (-20.78766788110739+0j),\n",
        "               (-27.994959412143807+0j)]],\n",
        "             5: [[(-19.472526749792053+0j),\n",
        "               (-22.07492091532899+0j),\n",
        "               (-24.247479512758186+0j),\n",
        "               (-18.910843378768757+0j),\n",
        "               (-18.067355525974886+0j),\n",
        "               (-26.845163667313045+0j),\n",
        "               (-21.06481887295343+0j),\n",
        "               (-19.558398315568397+0j),\n",
        "               (-27.066326659735715+0j),\n",
        "               (-15.424004217742446+0j),\n",
        "               (-30.638302274967973+0j),\n",
        "               (-17.012759243002932+0j),\n",
        "               (-16.046946295347823+0j),\n",
        "               (-22.25623879628769+0j),\n",
        "               (-19.453900322785064+0j),\n",
        "               (-29.462230619951946+0j),\n",
        "               (-19.10577460718268+0j),\n",
        "               (-20.242018610516812+0j),\n",
        "               (-19.315081857215397+0j),\n",
        "               (-20.52814745325758+0j),\n",
        "               (-25.72620126733093+0j)]],\n",
        "             6: [[(-23.471556854380637+0j),\n",
        "               (-20.804738767140552+0j),\n",
        "               (-20.348261843255116+0j),\n",
        "               (-20.831705823344336+0j),\n",
        "               (-24.87934608954722+0j),\n",
        "               (-20.999309008596537+0j),\n",
        "               (-15.492919170828275+0j),\n",
        "               (-25.74826462676419+0j),\n",
        "               (-29.55817266108398+0j),\n",
        "               (-30.07055887015+0j),\n",
        "               (-25.735211836891242+0j),\n",
        "               (-17.585071545560563+0j),\n",
        "               (-11.344506603423682+0j),\n",
        "               (-16.444272670693934+0j),\n",
        "               (-30.54820973037632+0j),\n",
        "               (-20.06758987249977+0j),\n",
        "               (-16.591980796638552+0j),\n",
        "               (-25.9444265152376+0j),\n",
        "               (-28.681166644939825+0j),\n",
        "               (-18.605373014935388+0j),\n",
        "               (-20.131859248110338+0j)]],\n",
        "             7: [[(-20.172404195390364+0j),\n",
        "               (-27.918267514131863+0j),\n",
        "               (-30.80576722338065+0j),\n",
        "               (-20.644263882283184+0j),\n",
        "               (-18.379969814860818+0j),\n",
        "               (-18.715266642488366+0j),\n",
        "               (-28.985326116813518+0j),\n",
        "               (-33.61518920727728+0j),\n",
        "               (-21.067701446389954+0j),\n",
        "               (-19.592783252308678+0j),\n",
        "               (-17.847882257299826+0j),\n",
        "               (-30.001195258245843+0j),\n",
        "               (-18.493907914307005+0j),\n",
        "               (-17.192742619707246+0j),\n",
        "               (-19.326786020963617+0j),\n",
        "               (-14.207871316058556+0j),\n",
        "               (-18.74045339691374+0j),\n",
        "               (-20.02012252654263+0j),\n",
        "               (-8.218913685057705+0j),\n",
        "               (-19.8347158738765+0j),\n",
        "               (-21.765028872842702+0j)]],\n",
        "             8: [[(-21.569905434384626+0j),\n",
        "               (-19.80723559214937+0j),\n",
        "               (-8.863029175131357+0j),\n",
        "               (-17.639562299265407+0j),\n",
        "               (-18.825965851738736+0j),\n",
        "               (-8.033636066395859+0j),\n",
        "               (-20.769768194376116+0j),\n",
        "               (-19.238468391878477+0j),\n",
        "               (-19.226044571614796+0j),\n",
        "               (-18.68490536363102+0j),\n",
        "               (-2.5475087807526977+0j),\n",
        "               (-20.614862414309535+0j),\n",
        "               (-21.58222912553439+0j),\n",
        "               (-25.837429193397963+0j),\n",
        "               (-19.60943715056382+0j),\n",
        "               (-20.85117981119931+0j),\n",
        "               (-20.9692306462684+0j),\n",
        "               (-30.48082800040696+0j),\n",
        "               (-19.309482131802422+0j),\n",
        "               (-16.598474362972535+0j),\n",
        "               (-19.417756652821975+0j)]],\n",
        "             9: [[(-18.72315052526745+0j),\n",
        "               (-21.557363799631695+0j),\n",
        "               (-30.63373462937352+0j),\n",
        "               (-18.84103229891213+0j),\n",
        "               (-33.074494977711545+0j),\n",
        "               (-19.01349958874275+0j),\n",
        "               (-27.112275046238867+0j),\n",
        "               (-19.373805070756962+0j),\n",
        "               (-21.059924798922275+0j),\n",
        "               (-23.311429879937823+0j),\n",
        "               (-26.299586810662+0j),\n",
        "               (-16.299450870300806+0j),\n",
        "               (-24.614319583907065+0j),\n",
        "               (-5.477142470841317+0j),\n",
        "               (-19.656316769822375+0j),\n",
        "               (-18.80028019815392+0j),\n",
        "               (-21.198164594155323+0j),\n",
        "               (-18.736325548494086+0j),\n",
        "               (-19.511327852587467+0j),\n",
        "               (-18.18644895231222+0j),\n",
        "               (-13.933158703234769+0j)]],\n",
        "             10: [[(-17.86161422888902+0j),\n",
        "               (-20.74322794670423+0j),\n",
        "               (-24.662682403436257+0j),\n",
        "               (-23.563042664196804+0j),\n",
        "               (-19.725119320256482+0j),\n",
        "               (-32.97940797989029+0j),\n",
        "               (-30.76291711530729+0j),\n",
        "               (-25.976222870806048+0j),\n",
        "               (-29.59156299415728+0j),\n",
        "               (-17.325461113422783+0j),\n",
        "               (-18.137885183461197+0j),\n",
        "               (-19.591742378050533+0j),\n",
        "               (-18.68804683302969+0j),\n",
        "               (-18.862532702046245+0j),\n",
        "               (-23.31632166176321+0j),\n",
        "               (-24.492805982938236+0j),\n",
        "               (-15.726619722776627+0j),\n",
        "               (-16.83390266212483+0j),\n",
        "               (-18.58927859032987+0j),\n",
        "               (-16.32835691308398+0j),\n",
        "               (-12.749590740125804+0j)]]})"
      ],
      "execution_count": null,
      "outputs": []
    },
    {
      "cell_type": "code",
      "metadata": {
        "colab_type": "code",
        "id": "Y21pXbMXaxA0",
        "colab": {
          "base_uri": "https://localhost:8080/",
          "height": 410
        },
        "outputId": "cdf12347-0939-4447-caec-0f5a4f2b9e0e"
      },
      "source": [
        "d_mse = dict()\n",
        "for i in np.arange(len(nmse_dict_1)):\n",
        "  d_mse[str(i)] = np.real(nmse_dict_1[i]).reshape(1,-1)[0].tolist()\n",
        "nmse_df = pd.DataFrame(d_mse).T\n",
        "nmse_df"
      ],
      "execution_count": null,
      "outputs": [
        {
          "output_type": "execute_result",
          "data": {
            "text/html": [
              "<div>\n",
              "<style scoped>\n",
              "    .dataframe tbody tr th:only-of-type {\n",
              "        vertical-align: middle;\n",
              "    }\n",
              "\n",
              "    .dataframe tbody tr th {\n",
              "        vertical-align: top;\n",
              "    }\n",
              "\n",
              "    .dataframe thead th {\n",
              "        text-align: right;\n",
              "    }\n",
              "</style>\n",
              "<table border=\"1\" class=\"dataframe\">\n",
              "  <thead>\n",
              "    <tr style=\"text-align: right;\">\n",
              "      <th></th>\n",
              "      <th>0</th>\n",
              "      <th>1</th>\n",
              "      <th>2</th>\n",
              "      <th>3</th>\n",
              "      <th>4</th>\n",
              "      <th>5</th>\n",
              "      <th>6</th>\n",
              "      <th>7</th>\n",
              "      <th>8</th>\n",
              "      <th>9</th>\n",
              "      <th>10</th>\n",
              "      <th>11</th>\n",
              "      <th>12</th>\n",
              "      <th>13</th>\n",
              "      <th>14</th>\n",
              "      <th>15</th>\n",
              "      <th>16</th>\n",
              "      <th>17</th>\n",
              "      <th>18</th>\n",
              "      <th>19</th>\n",
              "      <th>20</th>\n",
              "    </tr>\n",
              "  </thead>\n",
              "  <tbody>\n",
              "    <tr>\n",
              "      <th>0</th>\n",
              "      <td>-16.929611</td>\n",
              "      <td>-19.046400</td>\n",
              "      <td>-30.174392</td>\n",
              "      <td>-19.750188</td>\n",
              "      <td>-21.144039</td>\n",
              "      <td>-22.403115</td>\n",
              "      <td>-22.039895</td>\n",
              "      <td>-23.610327</td>\n",
              "      <td>-18.722657</td>\n",
              "      <td>-12.749591</td>\n",
              "      <td>-18.358568</td>\n",
              "      <td>-18.858608</td>\n",
              "      <td>-18.445379</td>\n",
              "      <td>-30.111950</td>\n",
              "      <td>-15.500927</td>\n",
              "      <td>-16.081397</td>\n",
              "      <td>-28.920167</td>\n",
              "      <td>-19.476528</td>\n",
              "      <td>-21.322253</td>\n",
              "      <td>-24.343637</td>\n",
              "      <td>-19.818820</td>\n",
              "    </tr>\n",
              "    <tr>\n",
              "      <th>1</th>\n",
              "      <td>-17.549462</td>\n",
              "      <td>-20.997848</td>\n",
              "      <td>-21.951038</td>\n",
              "      <td>-33.474203</td>\n",
              "      <td>-15.293772</td>\n",
              "      <td>-24.425324</td>\n",
              "      <td>-28.553854</td>\n",
              "      <td>-29.324441</td>\n",
              "      <td>-18.962329</td>\n",
              "      <td>-22.707683</td>\n",
              "      <td>-17.115770</td>\n",
              "      <td>-24.978759</td>\n",
              "      <td>-27.224181</td>\n",
              "      <td>-19.228762</td>\n",
              "      <td>-17.038152</td>\n",
              "      <td>-16.962662</td>\n",
              "      <td>-27.951830</td>\n",
              "      <td>-19.085751</td>\n",
              "      <td>-14.926448</td>\n",
              "      <td>-18.730303</td>\n",
              "      <td>-29.639879</td>\n",
              "    </tr>\n",
              "    <tr>\n",
              "      <th>2</th>\n",
              "      <td>-20.657163</td>\n",
              "      <td>-27.090578</td>\n",
              "      <td>-20.588591</td>\n",
              "      <td>-30.296735</td>\n",
              "      <td>-24.885055</td>\n",
              "      <td>-33.474965</td>\n",
              "      <td>-21.852710</td>\n",
              "      <td>-16.726326</td>\n",
              "      <td>-18.035165</td>\n",
              "      <td>-21.295033</td>\n",
              "      <td>-17.071725</td>\n",
              "      <td>-17.443535</td>\n",
              "      <td>-20.175885</td>\n",
              "      <td>-30.801635</td>\n",
              "      <td>-21.028785</td>\n",
              "      <td>-18.472729</td>\n",
              "      <td>-18.981849</td>\n",
              "      <td>-28.036297</td>\n",
              "      <td>-30.126505</td>\n",
              "      <td>-21.110814</td>\n",
              "      <td>-17.660803</td>\n",
              "    </tr>\n",
              "    <tr>\n",
              "      <th>3</th>\n",
              "      <td>-23.307465</td>\n",
              "      <td>-11.930118</td>\n",
              "      <td>-18.906912</td>\n",
              "      <td>-31.032445</td>\n",
              "      <td>-20.833227</td>\n",
              "      <td>-29.955389</td>\n",
              "      <td>-19.334292</td>\n",
              "      <td>-23.486058</td>\n",
              "      <td>-20.361464</td>\n",
              "      <td>-29.462785</td>\n",
              "      <td>-6.826464</td>\n",
              "      <td>-20.301622</td>\n",
              "      <td>-18.826447</td>\n",
              "      <td>-20.587531</td>\n",
              "      <td>-18.071354</td>\n",
              "      <td>-11.266872</td>\n",
              "      <td>-30.864890</td>\n",
              "      <td>-19.588414</td>\n",
              "      <td>-31.870513</td>\n",
              "      <td>-18.349296</td>\n",
              "      <td>-19.527295</td>\n",
              "    </tr>\n",
              "    <tr>\n",
              "      <th>4</th>\n",
              "      <td>-20.760712</td>\n",
              "      <td>-12.749591</td>\n",
              "      <td>-18.992537</td>\n",
              "      <td>-31.958093</td>\n",
              "      <td>-19.486126</td>\n",
              "      <td>-16.584700</td>\n",
              "      <td>-20.653014</td>\n",
              "      <td>-19.706269</td>\n",
              "      <td>-18.582626</td>\n",
              "      <td>-21.545003</td>\n",
              "      <td>-19.610961</td>\n",
              "      <td>-20.853824</td>\n",
              "      <td>-20.234398</td>\n",
              "      <td>-19.059178</td>\n",
              "      <td>-21.115749</td>\n",
              "      <td>-20.656179</td>\n",
              "      <td>-18.179277</td>\n",
              "      <td>-19.402270</td>\n",
              "      <td>-17.843118</td>\n",
              "      <td>-20.787668</td>\n",
              "      <td>-27.994959</td>\n",
              "    </tr>\n",
              "    <tr>\n",
              "      <th>5</th>\n",
              "      <td>-19.472527</td>\n",
              "      <td>-22.074921</td>\n",
              "      <td>-24.247480</td>\n",
              "      <td>-18.910843</td>\n",
              "      <td>-18.067356</td>\n",
              "      <td>-26.845164</td>\n",
              "      <td>-21.064819</td>\n",
              "      <td>-19.558398</td>\n",
              "      <td>-27.066327</td>\n",
              "      <td>-15.424004</td>\n",
              "      <td>-30.638302</td>\n",
              "      <td>-17.012759</td>\n",
              "      <td>-16.046946</td>\n",
              "      <td>-22.256239</td>\n",
              "      <td>-19.453900</td>\n",
              "      <td>-29.462231</td>\n",
              "      <td>-19.105775</td>\n",
              "      <td>-20.242019</td>\n",
              "      <td>-19.315082</td>\n",
              "      <td>-20.528147</td>\n",
              "      <td>-25.726201</td>\n",
              "    </tr>\n",
              "    <tr>\n",
              "      <th>6</th>\n",
              "      <td>-23.471557</td>\n",
              "      <td>-20.804739</td>\n",
              "      <td>-20.348262</td>\n",
              "      <td>-20.831706</td>\n",
              "      <td>-24.879346</td>\n",
              "      <td>-20.999309</td>\n",
              "      <td>-15.492919</td>\n",
              "      <td>-25.748265</td>\n",
              "      <td>-29.558173</td>\n",
              "      <td>-30.070559</td>\n",
              "      <td>-25.735212</td>\n",
              "      <td>-17.585072</td>\n",
              "      <td>-11.344507</td>\n",
              "      <td>-16.444273</td>\n",
              "      <td>-30.548210</td>\n",
              "      <td>-20.067590</td>\n",
              "      <td>-16.591981</td>\n",
              "      <td>-25.944427</td>\n",
              "      <td>-28.681167</td>\n",
              "      <td>-18.605373</td>\n",
              "      <td>-20.131859</td>\n",
              "    </tr>\n",
              "    <tr>\n",
              "      <th>7</th>\n",
              "      <td>-20.172404</td>\n",
              "      <td>-27.918268</td>\n",
              "      <td>-30.805767</td>\n",
              "      <td>-20.644264</td>\n",
              "      <td>-18.379970</td>\n",
              "      <td>-18.715267</td>\n",
              "      <td>-28.985326</td>\n",
              "      <td>-33.615189</td>\n",
              "      <td>-21.067701</td>\n",
              "      <td>-19.592783</td>\n",
              "      <td>-17.847882</td>\n",
              "      <td>-30.001195</td>\n",
              "      <td>-18.493908</td>\n",
              "      <td>-17.192743</td>\n",
              "      <td>-19.326786</td>\n",
              "      <td>-14.207871</td>\n",
              "      <td>-18.740453</td>\n",
              "      <td>-20.020123</td>\n",
              "      <td>-8.218914</td>\n",
              "      <td>-19.834716</td>\n",
              "      <td>-21.765029</td>\n",
              "    </tr>\n",
              "    <tr>\n",
              "      <th>8</th>\n",
              "      <td>-21.569905</td>\n",
              "      <td>-19.807236</td>\n",
              "      <td>-8.863029</td>\n",
              "      <td>-17.639562</td>\n",
              "      <td>-18.825966</td>\n",
              "      <td>-8.033636</td>\n",
              "      <td>-20.769768</td>\n",
              "      <td>-19.238468</td>\n",
              "      <td>-19.226045</td>\n",
              "      <td>-18.684905</td>\n",
              "      <td>-2.547509</td>\n",
              "      <td>-20.614862</td>\n",
              "      <td>-21.582229</td>\n",
              "      <td>-25.837429</td>\n",
              "      <td>-19.609437</td>\n",
              "      <td>-20.851180</td>\n",
              "      <td>-20.969231</td>\n",
              "      <td>-30.480828</td>\n",
              "      <td>-19.309482</td>\n",
              "      <td>-16.598474</td>\n",
              "      <td>-19.417757</td>\n",
              "    </tr>\n",
              "    <tr>\n",
              "      <th>9</th>\n",
              "      <td>-18.723151</td>\n",
              "      <td>-21.557364</td>\n",
              "      <td>-30.633735</td>\n",
              "      <td>-18.841032</td>\n",
              "      <td>-33.074495</td>\n",
              "      <td>-19.013500</td>\n",
              "      <td>-27.112275</td>\n",
              "      <td>-19.373805</td>\n",
              "      <td>-21.059925</td>\n",
              "      <td>-23.311430</td>\n",
              "      <td>-26.299587</td>\n",
              "      <td>-16.299451</td>\n",
              "      <td>-24.614320</td>\n",
              "      <td>-5.477142</td>\n",
              "      <td>-19.656317</td>\n",
              "      <td>-18.800280</td>\n",
              "      <td>-21.198165</td>\n",
              "      <td>-18.736326</td>\n",
              "      <td>-19.511328</td>\n",
              "      <td>-18.186449</td>\n",
              "      <td>-13.933159</td>\n",
              "    </tr>\n",
              "    <tr>\n",
              "      <th>10</th>\n",
              "      <td>-17.861614</td>\n",
              "      <td>-20.743228</td>\n",
              "      <td>-24.662682</td>\n",
              "      <td>-23.563043</td>\n",
              "      <td>-19.725119</td>\n",
              "      <td>-32.979408</td>\n",
              "      <td>-30.762917</td>\n",
              "      <td>-25.976223</td>\n",
              "      <td>-29.591563</td>\n",
              "      <td>-17.325461</td>\n",
              "      <td>-18.137885</td>\n",
              "      <td>-19.591742</td>\n",
              "      <td>-18.688047</td>\n",
              "      <td>-18.862533</td>\n",
              "      <td>-23.316322</td>\n",
              "      <td>-24.492806</td>\n",
              "      <td>-15.726620</td>\n",
              "      <td>-16.833903</td>\n",
              "      <td>-18.589279</td>\n",
              "      <td>-16.328357</td>\n",
              "      <td>-12.749591</td>\n",
              "    </tr>\n",
              "  </tbody>\n",
              "</table>\n",
              "</div>"
            ],
            "text/plain": [
              "           0          1          2   ...         18         19         20\n",
              "0  -16.929611 -19.046400 -30.174392  ... -21.322253 -24.343637 -19.818820\n",
              "1  -17.549462 -20.997848 -21.951038  ... -14.926448 -18.730303 -29.639879\n",
              "2  -20.657163 -27.090578 -20.588591  ... -30.126505 -21.110814 -17.660803\n",
              "3  -23.307465 -11.930118 -18.906912  ... -31.870513 -18.349296 -19.527295\n",
              "4  -20.760712 -12.749591 -18.992537  ... -17.843118 -20.787668 -27.994959\n",
              "5  -19.472527 -22.074921 -24.247480  ... -19.315082 -20.528147 -25.726201\n",
              "6  -23.471557 -20.804739 -20.348262  ... -28.681167 -18.605373 -20.131859\n",
              "7  -20.172404 -27.918268 -30.805767  ...  -8.218914 -19.834716 -21.765029\n",
              "8  -21.569905 -19.807236  -8.863029  ... -19.309482 -16.598474 -19.417757\n",
              "9  -18.723151 -21.557364 -30.633735  ... -19.511328 -18.186449 -13.933159\n",
              "10 -17.861614 -20.743228 -24.662682  ... -18.589279 -16.328357 -12.749591\n",
              "\n",
              "[11 rows x 21 columns]"
            ]
          },
          "metadata": {
            "tags": []
          },
          "execution_count": 27
        }
      ]
    },
    {
      "cell_type": "code",
      "metadata": {
        "colab_type": "code",
        "id": "3EfTRDHwaw1V",
        "colab": {
          "base_uri": "https://localhost:8080/",
          "height": 465
        },
        "outputId": "4dacbeaa-90e9-40be-e020-8b0968e61c47"
      },
      "source": [
        "import seaborn as sns; sns.set()\n",
        "import matplotlib.pyplot as plt\n",
        "\n",
        "plt.subplots(figsize=(20,7))\n",
        "sns.heatmap(nmse_df, annot=True, cmap=\"Blues_r\")\n",
        "plt.xlabel('delays range')\n",
        "plt.ylabel('Num. of simulation')"
      ],
      "execution_count": null,
      "outputs": [
        {
          "output_type": "execute_result",
          "data": {
            "text/plain": [
              "Text(156.5, 0.5, 'Num. of simulation')"
            ]
          },
          "metadata": {
            "tags": []
          },
          "execution_count": 44
        },
        {
          "output_type": "display_data",
          "data": {
            "image/png": "[encoded data removed]",
            "text/plain": [
              "<Figure size 1440x504 with 2 Axes>"
            ]
          },
          "metadata": {
            "tags": []
          }
        }
      ]
    },
    {
      "cell_type": "code",
      "metadata": {
        "id": "y9AAVNUrNqTz",
        "colab_type": "code",
        "colab": {
          "base_uri": "https://localhost:8080/",
          "height": 391
        },
        "outputId": "1f83db13-f72c-4f3e-d9cc-ab16869a3b76"
      },
      "source": [
        "nmse_df.mean(axis=0)"
      ],
      "execution_count": null,
      "outputs": [
        {
          "output_type": "execute_result",
          "data": {
            "text/plain": [
              "0    -20.043234\n",
              "1    -20.429117\n",
              "2    -22.743129\n",
              "3    -24.267465\n",
              "4    -21.326770\n",
              "5    -23.039071\n",
              "6    -23.329254\n",
              "7    -23.305797\n",
              "8    -22.021270\n",
              "9    -21.106294\n",
              "10   -18.199079\n",
              "11   -20.321948\n",
              "12   -19.606931\n",
              "13   -20.532674\n",
              "14   -20.424176\n",
              "15   -19.211072\n",
              "16   -21.566385\n",
              "17   -21.622444\n",
              "18   -20.883099\n",
              "19   -19.400294\n",
              "20   -20.760486\n",
              "dtype: float64"
            ]
          },
          "metadata": {
            "tags": []
          },
          "execution_count": 52
        }
      ]
    },
    {
      "cell_type": "code",
      "metadata": {
        "id": "ahV4DARvJA4h",
        "colab_type": "code",
        "colab": {
          "base_uri": "https://localhost:8080/",
          "height": 302
        },
        "outputId": "fecb6235-8788-417b-8127-20630205e7e8"
      },
      "source": [
        "plt.plot(nmse_df.mean(axis=0))\n",
        "plt.xlabel('delays range')\n",
        "plt.ylabel('NMSE')"
      ],
      "execution_count": null,
      "outputs": [
        {
          "output_type": "execute_result",
          "data": {
            "text/plain": [
              "Text(0, 0.5, 'NMSE')"
            ]
          },
          "metadata": {
            "tags": []
          },
          "execution_count": 54
        },
        {
          "output_type": "display_data",
          "data": {
            "image/png": "[encoded data removed]",
            "text/plain": [
              "<Figure size 432x288 with 1 Axes>"
            ]
          },
          "metadata": {
            "tags": []
          }
        }
      ]
    },
    {
      "cell_type": "code",
      "metadata": {
        "colab_type": "code",
        "id": "7V9EOBY0icLW",
        "colab": {
          "base_uri": "https://localhost:8080/",
          "height": 34
        },
        "outputId": "8a3990f9-c700-4dc3-d146-5d2278117248"
      },
      "source": [
        "xy_best = np.where(nmse_df.to_numpy() == np.min(nmse_df.to_numpy()))\n",
        "xy_best = [xy_best[0][0], xy_best[1][0]]\n",
        "xy_best"
      ],
      "execution_count": null,
      "outputs": [
        {
          "output_type": "execute_result",
          "data": {
            "text/plain": [
              "[7, 7]"
            ]
          },
          "metadata": {
            "tags": []
          },
          "execution_count": 92
        }
      ]
    },
    {
      "cell_type": "code",
      "metadata": {
        "id": "_-rGPRciHV3b",
        "colab_type": "code",
        "colab": {
          "base_uri": "https://localhost:8080/",
          "height": 391
        },
        "outputId": "23621a28-438b-453a-9ea3-4550c5840ef0"
      },
      "source": [
        "# Лучшая модель \n",
        "models_dict[xy_best[0]][0][xy_best[1]].summary()"
      ],
      "execution_count": null,
      "outputs": [
        {
          "output_type": "stream",
          "text": [
            "Model: \"functional_1\"\n",
            "_________________________________________________________________\n",
            "Layer (type)                 Output Shape              Param #   \n",
            "=================================================================\n",
            "input_1 (InputLayer)         [(None, 30)]              0         \n",
            "_________________________________________________________________\n",
            "multi_category_encoding (Mul (None, 30)                0         \n",
            "_________________________________________________________________\n",
            "dense (Dense)                (None, 512)               15872     \n",
            "_________________________________________________________________\n",
            "re_lu (ReLU)                 (None, 512)               0         \n",
            "_________________________________________________________________\n",
            "dense_1 (Dense)              (None, 1024)              525312    \n",
            "_________________________________________________________________\n",
            "re_lu_1 (ReLU)               (None, 1024)              0         \n",
            "_________________________________________________________________\n",
            "regression_head_1 (Dense)    (None, 2)                 2050      \n",
            "=================================================================\n",
            "Total params: 543,234\n",
            "Trainable params: 543,234\n",
            "Non-trainable params: 0\n",
            "_________________________________________________________________\n"
          ],
          "name": "stdout"
        }
      ]
    },
    {
      "cell_type": "code",
      "metadata": {
        "id": "K5-fzi-oHV1N",
        "colab_type": "code",
        "colab": {
          "base_uri": "https://localhost:8080/",
          "height": 353
        },
        "outputId": "b24b5e7c-ddc1-46dc-e080-377cc8a77be2"
      },
      "source": [
        "y_pred = y_preds_dict[xy_best[0]][0][xy_best[1]]\n",
        "ee = ee_dict[xy_best[0]][0][xy_best[1]]\n",
        "plt.plot(y_val_cmpx * np.conj(y_val_cmpx))\n",
        "plt.plot(ee)"
      ],
      "execution_count": null,
      "outputs": [
        {
          "output_type": "stream",
          "text": [
            "/usr/local/lib/python3.6/dist-packages/numpy/core/_asarray.py:85: ComplexWarning: Casting complex values to real discards the imaginary part\n",
            "  return array(a, dtype, copy=False, order=order)\n",
            "/usr/local/lib/python3.6/dist-packages/numpy/core/_asarray.py:85: ComplexWarning: Casting complex values to real discards the imaginary part\n",
            "  return array(a, dtype, copy=False, order=order)\n"
          ],
          "name": "stderr"
        },
        {
          "output_type": "execute_result",
          "data": {
            "text/plain": [
              "[<matplotlib.lines.Line2D at 0x7fafca0f4a90>]"
            ]
          },
          "metadata": {
            "tags": []
          },
          "execution_count": 105
        },
        {
          "output_type": "display_data",
          "data": {
            "image/png": "[encoded data removed]",
            "text/plain": [
              "<Figure size 432x288 with 1 Axes>"
            ]
          },
          "metadata": {
            "tags": []
          }
        }
      ]
    },
    {
      "cell_type": "code",
      "metadata": {
        "id": "k9TT-RysHVhR",
        "colab_type": "code",
        "colab": {}
      },
      "source": [
        ""
      ],
      "execution_count": null,
      "outputs": []
    }
  ]
}